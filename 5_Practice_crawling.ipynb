{
 "cells": [
  {
   "cell_type": "markdown",
   "metadata": {},
   "source": [
    "# 크롤링 예시 "
   ]
  },
  {
   "cell_type": "code",
   "execution_count": null,
   "metadata": {
    "collapsed": true
   },
   "outputs": [],
   "source": [
    "#'imdb.com' 에서 Movie 정보 크롤링 해오는 과정 \n",
    "from bs4 import BeautifulSoup as bs\n",
    "import requests\n",
    "\n",
    "def movie_crawler(url):\n",
    "    res = requests.get(url)\n",
    "\n",
    "    # 예상치 못하게 404나 500을 받았는데, html을 파싱하려고 하면\n",
    "    # 에러가 발생하므로, 200(성공)일때만 코드가 실행되도록 합니다.\n",
    "    if res.status_code == 200:\n",
    "        soup = bs(res.text,'html.parser')\n",
    "\n",
    "        #\n",
    "        # titles = soup.select('#main > div > div.list.detail > div > table > tbody > tr > td.overview-top > h4 > a')\n",
    "        # images = soup.select('#img_primary > div > a > div > img')\n",
    "        #\n",
    "        # 이렇게 전체 html에서 titles(제목들), images(포스터 이미지들)를 가져오는 대신\n",
    "        # 하나의 movie 정보를 감싸고 있는 div 태그를 가져온 다음\n",
    "        # 그 안에 있는 포스터 이미지, 영화 제목, 평점 등을 가져오면\n",
    "        # for문을 한번만 돌아도됩니다!\n",
    "\n",
    "        # 이렇게 css selector를 가지고 받아올 수도 있고\n",
    "        movies = soup.select('#main > div > div.list.detail > div')\n",
    "        # 이렇게 속성을 가지고 받아올 수도 있습니다.\n",
    "        movies = soup.findAll('div', {'itemtype': 'http://schema.org/Movie'})\n",
    "\n",
    "        # title, image, running_time, score, genre, directors, actors 순으로 넣겠습니다.\n",
    "        table = []\n",
    "        for movie in movies:\n",
    "            row = []\n",
    "\n",
    "            title = movie.findAll('h4', {'itemprop': 'name'})\n",
    "            image = movie.findAll('img', {'itemprop': 'image'})\n",
    "            running_time = movie.findAll('time', {'itemprop': 'duration'})\n",
    "            score = movie.select('div.rating_txt > div > strong')\n",
    "            genres = movie.findAll('span', {'itemprop': 'genre'})\n",
    "            directors = movie.findAll('span', {'itemprop': 'director'})\n",
    "            actors = movie.findAll('span', {'itemprop': 'actors'})\n",
    "\n",
    "\n",
    "            # strip()은 앞뒤 공백을 지워줍니다.\n",
    "            # title가 빈 리스트([])인데, title[0]를 하면 index out of range 에러가 납니다.\n",
    "            # 에러가 나는 것을 방지해주기 위해서 뒤에 len(title)이 0보다 클때만 title[0]를 하게 하고\n",
    "            # 아니면 \"\" 빈 스트링을 row에 append 합니다.\n",
    "            row.append(title[0].text.strip() if len(title)>0 else \"\")\n",
    "            row.append(image[0]['src'].strip() if len(image)>0 else \"\")\n",
    "            row.append(running_time[0].text.strip() if len(running_time)>0 else \"\")\n",
    "            row.append(score[0].text.strip() if len(score)>0 else \"\")\n",
    "            \n",
    "            # genre, director, actor는 여러명인 경우가 있기 때문에 list로 받아옵니다.\n",
    "            row.append([genre.text.strip() for genre in genres])\n",
    "            row.append([director.text.strip() for director in directors])\n",
    "            row.append([actor.text.strip() for actor in actors])\n",
    "\n",
    "            # 예상대로라면\n",
    "            # row <= [u'The Woman in Black 2: Angel of Death (2014)', 'http://ia.media-imdb.com/images/M/MV5BMTgxMjUyNTAxNF5BMl5BanBnXkFtZTgwNTk4MDUyMzE@._V1_UY209_CR0,0,140,209_AL_.jpg', u'98 min', u'42', [u'Drama', u'Horror', u'Thriller'], [u'Tom Harper'], [u'Helen McCrory', u'Jeremy Irvine', u'Phoebe Fox', u'Leanne Best']]\n",
    "            # print row\n",
    "    \n",
    "            table.append(row)\n",
    "\n",
    "        return table\n",
    "\n",
    "jan_2015 = movie_crawler('http://www.imdb.com/movies-coming-soon/2015-01')\n",
    "# print jan_2015[0]\n",
    "\n",
    "print(jan_2015)\n"
   ]
  },
  {
   "cell_type": "code",
   "execution_count": 6,
   "metadata": {},
   "outputs": [
    {
     "name": "stdout",
     "output_type": "stream",
     "text": [
      "http://www.imdb.com/movies-coming-soon/2015-01 crawling..\n",
      "http://www.imdb.com/movies-coming-soon/2015-02 crawling..\n",
      "http://www.imdb.com/movies-coming-soon/2015-03 crawling..\n",
      "http://www.imdb.com/movies-coming-soon/2015-04 crawling..\n",
      "http://www.imdb.com/movies-coming-soon/2015-05 crawling..\n",
      "http://www.imdb.com/movies-coming-soon/2015-06 crawling..\n",
      "http://www.imdb.com/movies-coming-soon/2015-07 crawling..\n",
      "http://www.imdb.com/movies-coming-soon/2015-08 crawling..\n",
      "http://www.imdb.com/movies-coming-soon/2015-09 crawling..\n",
      "http://www.imdb.com/movies-coming-soon/2015-10 crawling..\n",
      "http://www.imdb.com/movies-coming-soon/2015-11 crawling..\n",
      "http://www.imdb.com/movies-coming-soon/2015-12 crawling..\n"
     ]
    }
   ],
   "source": [
    "#{} 와 .format 메서드 쓰는 법 기억해 두기. \n",
    "#str.zfill(width) ->> zero padding 만드는 방법. str -> \" \" 형태의 어떤 것이든 OK. \n",
    "#zfill(width) 설정의 경우 계속 사용해봐서 익혀야 할듯. \n",
    "\n",
    "target_url = 'http://www.imdb.com/movies-coming-soon/{}'\n",
    "movie_total = []\n",
    "for i in range(1,13):\n",
    "    # string.zfill(2)을 사용해보세요. zero padding이 생깁니다.\n",
    "    date = \"2015-\" + str(i).zfill(2)\n",
    "    print(target_url.format(date) + \" crawling..\")\n",
    "    movie_total += movie_crawler(target_url.format(date))"
   ]
  },
  {
   "cell_type": "code",
   "execution_count": 9,
   "metadata": {
    "scrolled": true
   },
   "outputs": [
    {
     "name": "stdout",
     "output_type": "stream",
     "text": [
      "총382개의 영화 정보를 크롤링했습니다.\n",
      "========================================\n",
      "['The Woman in Black 2: Angel of Death (2014)', 'https://images-na.ssl-images-amazon.com/images/M/MV5BMTgxMjUyNTAxNF5BMl5BanBnXkFtZTgwNTk4MDUyMzE@._V1_UY209_CR0,0,140,209_AL_.jpg', '98 min', '', ['Drama', 'Horror', 'Thriller'], ['Tom Harper'], ['Helen McCrory', 'Jeremy Irvine', 'Phoebe Fox', 'Leanne Best']]\n",
      "========================================\n",
      "['A Most Violent Year (2014)', 'https://images-na.ssl-images-amazon.com/images/M/MV5BMjE4OTY4ODg3Ml5BMl5BanBnXkFtZTgwMTI1MTg1MzE@._V1_UY209_CR0,0,140,209_AL_.jpg', '125 min', '', ['Action', 'Crime', 'Drama', 'Thriller'], ['J.C. Chandor'], ['Oscar Isaac', 'Jessica Chastain', 'David Oyelowo', 'Alessandro Nivola']]\n",
      "========================================\n",
      "['Leviafan (2014)', 'https://images-na.ssl-images-amazon.com/images/M/MV5BMjAwMTY3MTU0Ml5BMl5BanBnXkFtZTgwNzE0ODAwMzE@._V1_UY209_CR0,0,140,209_AL_.jpg', '140 min', '', ['Drama'], ['Andrey Zvyagintsev'], ['Aleksey Serebryakov', 'Elena Lyadova', 'Roman Madyanov', 'Vladimir Vdovichenkov']]\n"
     ]
    }
   ],
   "source": [
    "print(\"총\" + str(len(movie_total)) + \"개의 영화 정보를 크롤링했습니다.\")\n",
    "\n",
    "# 3개만 출력해봅시다.\n",
    "for i in range(0,3):\n",
    "    print(\"========================================\")\n",
    "    print(movie_total[i])"
   ]
  },
  {
   "cell_type": "markdown",
   "metadata": {},
   "source": [
    "# csv 파일 읽고 쓰기"
   ]
  },
  {
   "cell_type": "code",
   "execution_count": 10,
   "metadata": {
    "collapsed": true
   },
   "outputs": [],
   "source": [
    "#csv 파일 만들기. -> with open('sample.csv','w') 통해서 해당 파일경로에 .csv 파일 만듦\n",
    "\n",
    "#delimiter -> 지정하여 셀 나눔 실행 (엑셀파일에서)\n",
    "#quotechar -> 쿵푸팬더의 경우 ' ' 안에 ,(comma)가 있어 '|쿵~3' (셀나눔) '2016|' 이런식으로 셀이 형성됨\n",
    "\n",
    "#기억해야할 것:\n",
    "    # csv.writer(파일이름, delimiter='', quotechar='',quoting=)\n",
    "    # .writerow(['','',''])\n",
    "    # .writerow 사이에 엔터(빈 행)있으면 그 행 수 만큼 엑셀에도 빈 행 생김\n",
    "    # default delimiter는 ,(comma) quotechar는 \"(double quote)\n",
    "    \n",
    "\n",
    "import csv\n",
    "\n",
    "with open('sample.csv', 'w') as csvfile:\n",
    "    writer = csv.writer(csvfile, delimiter=',', quotechar='|', quoting=csv.QUOTE_MINIMAL)\n",
    "    \n",
    "    writer.writerow(['검사외전','범죄','126분'])\n",
    "    \n",
    "    writer.writerow(['쿵푸팬더3 (Kung Fu Panda 3, 2016)','애니메이션','95분'])\n"
   ]
  },
  {
   "cell_type": "code",
   "execution_count": 11,
   "metadata": {},
   "outputs": [
    {
     "name": "stdout",
     "output_type": "stream",
     "text": [
      "[['검사외전', '범죄', '126분'], [], ['쿵푸팬더3 (Kung Fu Panda 3, 2016)', '애니메이션', '95분'], []]\n"
     ]
    }
   ],
   "source": [
    "#csv 파일 읽는 방법\n",
    "#open('파일명', 'r') -> 읽기모드로\n",
    "#csv.reader() -> writer랑 같음 / quoting 제외\n",
    "#csv파일에서는 ,로 셀나뉘어지고 |가 추가되어 있지만, 파이썬에서 print 될 때는 list값 제대로 출력되어 읽음 \n",
    "\n",
    "data = []\n",
    "with open('sample.csv','r') as csvfile:\n",
    "    reader = csv.reader(csvfile, delimiter=',',quotechar='|')\n",
    "    for row in reader:\n",
    "        data.append(row)\n",
    "\n",
    "print(data)"
   ]
  },
  {
   "cell_type": "markdown",
   "metadata": {},
   "source": [
    "# CSV 파일 읽고 쓰기 _ con'd 해보기"
   ]
  },
  {
   "cell_type": "code",
   "execution_count": 2,
   "metadata": {},
   "outputs": [
    {
     "data": {
      "text/plain": [
       "'movies_sample.csv'"
      ]
     },
     "execution_count": 2,
     "metadata": {},
     "output_type": "execute_result"
    }
   ],
   "source": [
    "# 이번에는 delimiter를 세미콜론(';')으로 하고, quotechar는 '/'로 해봅시다. \n",
    "# 여러줄을 한 번에 쓸때는 writer.writerows 하면 됩니다. **\n",
    "# remind:  코드중간 '\\' 쓰면 enter 기능. 다음행에 이어서 코드 쓰기!!!!!\n",
    "\n",
    "import csv \n",
    "\n",
    "data = [['검;사;외;전', '범죄','126분'], \\\n",
    "        ['쿵;푸;팬;더;3 (Kung Fu Panda 3, 2016)', \\\n",
    "         '애;니;메;이;션','95분']]\n",
    "\n",
    "def write_csv(data, filename, delimiter=',', quotechar='\"'):\n",
    "    with open(filename, 'w') as csvfile:\n",
    "        writer = csv.writer(csvfile, \\\n",
    "                           delimiter=delimiter,\\\n",
    "                           quotechar=quotechar)\n",
    "        writer.writerows(data)\n",
    "        \n",
    "    return filename\n",
    "\n",
    "write_csv(data, 'movies_sample.csv')"
   ]
  },
  {
   "cell_type": "code",
   "execution_count": 3,
   "metadata": {},
   "outputs": [
    {
     "name": "stdout",
     "output_type": "stream",
     "text": [
      "검;사;외;전\n",
      "범죄\n",
      "126분\n",
      "쿵;푸;팬;더;3 (Kung Fu Panda 3, 2016)\n",
      "애;니;메;이;션\n",
      "95분\n"
     ]
    }
   ],
   "source": [
    "def read_csv(filename, delimiter=',', quotechar='\"'):\n",
    "    data = []\n",
    "    \n",
    "    with open(filename, 'r') as csvfile:\n",
    "        reader = csv.reader(csvfile, \\\n",
    "                            delimiter=delimiter, \\\n",
    "                            quotechar=quotechar)\n",
    "        for row in reader:\n",
    "            data.append(row)\n",
    "    \n",
    "    return data\n",
    "\n",
    "data = read_csv('movies_sample.csv')\n",
    "\n",
    "for row in data:\n",
    "    for item in row:\n",
    "        print(item)"
   ]
  },
  {
   "cell_type": "code",
   "execution_count": null,
   "metadata": {
    "collapsed": true
   },
   "outputs": [],
   "source": []
  }
 ],
 "metadata": {
  "kernelspec": {
   "display_name": "Python 3",
   "language": "python",
   "name": "python3"
  },
  "language_info": {
   "codemirror_mode": {
    "name": "ipython",
    "version": 3
   },
   "file_extension": ".py",
   "mimetype": "text/x-python",
   "name": "python",
   "nbconvert_exporter": "python",
   "pygments_lexer": "ipython3",
   "version": "3.6.1"
  }
 },
 "nbformat": 4,
 "nbformat_minor": 2
}
