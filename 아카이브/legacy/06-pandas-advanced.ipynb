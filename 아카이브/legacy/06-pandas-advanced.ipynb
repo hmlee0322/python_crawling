{
 "cells": [
  {
   "cell_type": "markdown",
   "metadata": {},
   "source": [
    "# 업무자동화를 위한 파이썬 입문 CAMP #12-06\n",
    "\n",
    "\n",
    "> 주제 : data.go.kr 에 있는 대학교 데이터를 pandas를 이용해서 쉽게 분리하기"
   ]
  },
  {
   "cell_type": "markdown",
   "metadata": {},
   "source": [
    "## Prerequisite\n",
    "\n",
    "#### Python Packages\n",
    "\n",
    "```\n",
    "$ pip install pandas\n",
    "```"
   ]
  },
  {
   "cell_type": "code",
   "execution_count": 1,
   "metadata": {
    "collapsed": true
   },
   "outputs": [],
   "source": [
    "import os\n",
    "\n",
    "import pandas as pd"
   ]
  },
  {
   "cell_type": "code",
   "execution_count": 2,
   "metadata": {
    "collapsed": true
   },
   "outputs": [],
   "source": [
    "df = pd.read_excel(\"university_original_modified.xlsx\")"
   ]
  },
  {
   "cell_type": "code",
   "execution_count": 3,
   "metadata": {
    "collapsed": false
   },
   "outputs": [
    {
     "name": "stdout",
     "output_type": "stream",
     "text": [
      "1592\n",
      "['충남도립청양대학' '한국복지대학교' '가톨릭상지대학교' ..., '한국폴리텍 섬유패션캠퍼스' '한국폴리텍대학 안성여자캠퍼스'\n",
      " '한국폴리텍대학 항공캠퍼스']\n",
      "['KDB금융대학교' 'LH토지주택대학교' 'SPC식품과학대학' ..., '홍익대학교 영상대학원' '화신사이버대학교'\n",
      " '횃불트리니티신학대학원대학교']\n"
     ]
    }
   ],
   "source": [
    "universities = df['학교명'].unique()\n",
    "\n",
    "# 전체 대학교 갯수 출력하기\n",
    "universities_count = len(universities)\n",
    "print(universities_count)\n",
    "\n",
    "print(universities)\n",
    "\n",
    "# 오름차순으로 정렬하여 출력하기\n",
    "universities.sort()\n",
    "print(universities)"
   ]
  },
  {
   "cell_type": "code",
   "execution_count": 4,
   "metadata": {
    "collapsed": true
   },
   "outputs": [],
   "source": [
    "# 전체 대학교 리스트를 엑셀 파일로 저장하기\n",
    "\n",
    "pd.DataFrame(universities).to_excel(\n",
    "    \"universities.xlsx\",\n",
    "    index=False,  # index 의 숫자를 엑셀에 포함하지 않는다.\n",
    "    header=False,  # 헤더(\"학교명\") 을 엑셀에 포함하지 않는다.\n",
    ")"
   ]
  },
  {
   "cell_type": "code",
   "execution_count": 5,
   "metadata": {
    "collapsed": false
   },
   "outputs": [],
   "source": [
    "# 학교명을 기준으로 파일을 나누자.\n",
    "university_groups = df.groupby(\"학교명\")\n",
    "\n",
    "for university_name in df[\"학교명\"].unique():\n",
    "    university_group = university_groups.get_group(university_name)\n",
    "    university_group.to_excel(\"universities/\" + university_name + \".xlsx\", index=False)"
   ]
  },
  {
   "cell_type": "code",
   "execution_count": null,
   "metadata": {
    "collapsed": true
   },
   "outputs": [],
   "source": []
  }
 ],
 "metadata": {
  "kernelspec": {
   "display_name": "Python 3",
   "language": "python",
   "name": "python3"
  },
  "language_info": {
   "codemirror_mode": {
    "name": "ipython",
    "version": 3
   },
   "file_extension": ".py",
   "mimetype": "text/x-python",
   "name": "python",
   "nbconvert_exporter": "python",
   "pygments_lexer": "ipython3",
   "version": "3.5.1"
  }
 },
 "nbformat": 4,
 "nbformat_minor": 0
}
