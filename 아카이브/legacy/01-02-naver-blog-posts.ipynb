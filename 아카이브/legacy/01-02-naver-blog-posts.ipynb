{
 "cells": [
  {
   "cell_type": "markdown",
   "metadata": {},
   "source": [
    "# 업무자동화를 위한 파이썬 입문 CAMP #10-01-02\n",
    "\n",
    "\n",
    "> 주제 : 네이버에서 특정 키워드로 상위 노출된 블로그 리스트 출력하기"
   ]
  },
  {
   "cell_type": "markdown",
   "metadata": {},
   "source": [
    "## Prerequisite\n",
    "\n",
    "\n",
    "```shell\n",
    "$ pip install requests\n",
    "$ pip install beautifulsoup4\n",
    "```"
   ]
  },
  {
   "cell_type": "code",
   "execution_count": 1,
   "metadata": {
    "collapsed": true
   },
   "outputs": [],
   "source": [
    "import requests\n",
    "from bs4 import BeautifulSoup"
   ]
  },
  {
   "cell_type": "code",
   "execution_count": 2,
   "metadata": {},
   "outputs": [],
   "source": [
    "# 만약, \"신사동\" 이라는 키워드로 네이버에서 검색하면, 어떤 주소로 이동될까요?\n",
    "# => https://search.naver.com/search.naver?where=nexearch&query=신사동&sm=top_hty&fbm=1&ie=utf8\n",
    "#\n",
    "# 만약, \"신사동 원룸\" 이라는 키워드로 네이버에서 검색하면, 어떤 주소로 이동될까요?\n",
    "# => https://search.naver.com/search.naver?sm=tab_hty.top&where=nexearch&ie=utf8&query=신사동+원룸\n",
    "#\n",
    "# 즉 어떤 키워드로 검색하던 간에 네이버에서는 `query=[키워드A+키워드B+키워드C]` 라는 주소가 뒤에 붙음을 알 수 있습니다.\n",
    "# ( 개발자들이 사용하는 표현으로 바꾸면 다음과 같습니다: 네이버 검색에서는 query 라는 parameter의 value로 \"키워드A+키워드B+키워드C\" 를 받습니다. )\n",
    "\n",
    "\n",
    "# 먼저, 네이버에서 \"신사동 원룸\" 이라는 키워드로 한번 검색을 해보겠습니다.\n",
    "response = requests.get(\"https://search.naver.com/search.naver?sm=tab_hty.top&where=nexearch&ie=utf8&query=신사동+원룸\")\n",
    "assert response.status_code is 200"
   ]
  },
  {
   "cell_type": "code",
   "execution_count": 3,
   "metadata": {},
   "outputs": [
    {
     "name": "stdout",
     "output_type": "stream",
     "text": [
      "('신사동 원룸 월세 압구정역 하우스테디베어', '(주)피플부동산&최연호', 'http://blog.naver.com/uppdb?Redirect=Log&logNo=220598517114')\n",
      "('[강남구]용달이사 강남 신사동 역삼동 원룸이사', '★ 이 사 전 문 ☎ 1 6 7 0 - 9 9 8 6 ★', 'http://blog.daum.net/yk_6060/592513')\n",
      "('역삼동V신사동용달이사X청담동원룸이사(보관이사)', '젊은일꾼들 세진24스토리', 'http://blog.daum.net/transporter2424/1060')\n",
      "('(강남구)용달이사 (강남)원룸이사 논현동 신사동', '★ 이 사 전 문 ☎ 1 6 7 0 - 9 9 8 6 ★', 'http://blog.daum.net/yk_6060/592492')\n",
      "('신사동 강남구청역 인근 원룸을 소개하겠습니다', 'ㄴ영달이네~^^*', 'http://blog.naver.com/white_uns2?Redirect=Log&logNo=220578775492')\n"
     ]
    }
   ],
   "source": [
    "dom = BeautifulSoup(response.content, \"html.parser\")\n",
    "\n",
    "blog_post_elements = dom.select('li.sh_blog_top')\n",
    "\n",
    "for blog_post_element in blog_post_elements:\n",
    "    title = blog_post_element.select('a.sh_blog_title')[0].attrs.get('title')\n",
    "    blog_name = blog_post_element.select('a.txt84')[0].text\n",
    "    url = blog_post_element.select('a.sh_blog_title')[0].attrs.get('href')\n",
    "    print((title, blog_name, url))"
   ]
  },
  {
   "cell_type": "code",
   "execution_count": 4,
   "metadata": {
    "scrolled": true
   },
   "outputs": [
    {
     "name": "stdout",
     "output_type": "stream",
     "text": [
      "('신사동 원룸', '신사동 원룸 월세 압구정역 하우스테디베어', '(주)피플부동산&최연호', 'http://blog.naver.com/uppdb?Redirect=Log&logNo=220598517114')\n",
      "('신사동 원룸', '[강남구]용달이사 강남 신사동 역삼동 원룸이사', '★ 이 사 전 문 ☎ 1 6 7 0 - 9 9 8 6 ★', 'http://blog.daum.net/yk_6060/592513')\n",
      "('신사동 원룸', '역삼동V신사동용달이사X청담동원룸이사(보관이사)', '젊은일꾼들 세진24스토리', 'http://blog.daum.net/transporter2424/1060')\n",
      "('신사동 원룸', '(강남구)용달이사 (강남)원룸이사 논현동 신사동', '★ 이 사 전 문 ☎ 1 6 7 0 - 9 9 8 6 ★', 'http://blog.daum.net/yk_6060/592492')\n",
      "('신사동 원룸', '신사동 강남구청역 인근 원룸을 소개하겠습니다', 'ㄴ영달이네~^^*', 'http://blog.naver.com/white_uns2?Redirect=Log&logNo=220578775492')\n",
      "('신사역 원룸', '신사역 오피스텔 원룸 샤르망s 월세', '아름다운 세상 TEL.02-555-4472 (24시간)', 'http://blog.daum.net/arangsin/670')\n",
      "('신사역 원룸', '신사역 오피스텔 고층뷰 원룸 크레신타워 월세', 'House Channel 02.566.2027', 'http://blog.daum.net/gangnamjeil/1317')\n",
      "('신사역 원룸', '신사역 원룸 학동공원 인근 넓고 보안좋은곳', '하우스마켓', 'http://blog.daum.net/gnhmk/1720')\n",
      "('가로수길 원룸', '논현동 원룸 가로수길 빌라 T3하우스', '(주)피플부동산&최연호', 'http://blog.naver.com/uppdb?Redirect=Log&logNo=220608134940')\n",
      "('가로수길 원룸', '강남원룸전세 신사동원룸전세 가로수길 원룸전세!! 1억5천!!', '강남신사동 가로수길 전문 대표:하순자의 블로그^^', 'http://blog.naver.com/yhjgreat?Redirect=Log&logNo=220605603119')\n",
      "('가로수길 원룸', '풀옵션를 갖춘 가로수길원룸 500/100만원', '부동산으로 1조 부자 되기', 'http://blog.naver.com/sjcho202?Redirect=Log&logNo=220457558735')\n",
      "('가로수길 원룸', '가로수길 원룸 뷰티', '010-2412-9879 (24시간 문의) 日本語,ENGLISH', 'http://blog.naver.com/gmountain7?Redirect=Log&logNo=220564837141')\n",
      "('가로수길 원룸', '신사동원룸월세, 가로수길원룸월세 이쁜 원룸있어요!! 6000/30', '강남신사동 가로수길 전문 대표:하순자의 블로그^^', 'http://blog.naver.com/yhjgreat?Redirect=Log&logNo=220558714220')\n",
      "('가로수길 오피스텔', '논현동] 가로수길 인근 38평형 세양오피스텔 임대', '강남부동산거래소', 'http://blog.naver.com/superb4u?Redirect=Log&logNo=220494384507')\n",
      "('가로수길 오피스텔', '신사동 가로수길 오피스텔 전세', 'True house 02. 566. 2027', 'http://blog.daum.net/starlhj1/1124')\n",
      "('가로수길 오피스텔', '가로수길 오피스텔경매 [강남구 논현동 세양에이팩스타워]', '경매전문공인중개사 장중향팀장', 'http://blog.naver.com/5925jang?Redirect=Log&logNo=220537995385')\n",
      "('가로수길 오피스텔', '신사동 가로수길 오피스텔 신축 HANDMADE', '010-2412-9879 (24시간 문의) 日本語,ENGLISH', 'http://blog.naver.com/gmountain7?Redirect=Log&logNo=220250304695')\n",
      "('가로수길 오피스텔', '신사역 가로수길 오피스텔 세양에이팩스', '하우스마켓', 'http://blog.daum.net/gnhmk/1325')\n",
      "('신사역 부동산', '서초구 잠원동 사무실, 상가 월세 4000/600만 - 신사역 출구앞 [신세계부동산]', '신세계 부동산', 'http://qstarq.blog.me/220602994486')\n",
      "('신사역 부동산', '청담동 사무실 급매물 세련된 풀인테리어 신사역', '벼리', 'http://blog.naver.com/soriege?Redirect=Log&logNo=220610612531')\n",
      "('신사역 부동산', '신사역 저렴한 신사동 강남 사무실 임대', '사무실풍경 - 강남.서초사무실임대전문사이트', 'http://smspk2014.blog.me/220597051578')\n",
      "('신사역 부동산', '강남구 신사동 사무실 (상가가능) 월세 4천/250만 - 신사역 출구앞 [신세계부동산]', '신세계 부동산', 'http://qstarq.blog.me/220600804196')\n"
     ]
    }
   ],
   "source": [
    "# 여러 키워드에 대해서 한꺼번에 블로그 포스트 리스트를 불러와보겠습니다.\n",
    "\n",
    "keywords = [\n",
    "    \"신사동 원룸\",\n",
    "    \"신사역 원룸\",\n",
    "    \"가로수길 원룸\",\n",
    "    \"가로수길 오피스텔\",\n",
    "    \"신사역 부동산\",\n",
    "]\n",
    "\n",
    "\n",
    "for keyword in keywords:\n",
    "    # 우리가 작성한 키워드는 \" \" ( 띄어쓰기 ) 로 되어 있지만,\n",
    "    # 네이버에서 검색을 할 떄는 \" \" => \"+\" 로 변경되서 검색되어야 합니다.\n",
    "    \n",
    "    query = keyword.replace(' ', '+')\n",
    "    \n",
    "    response = requests.get(\"https://search.naver.com/search.naver?query={query}\".format(query=query))\n",
    "    assert response.status_code is 200\n",
    "\n",
    "\n",
    "    dom = BeautifulSoup(response.content, \"html.parser\")\n",
    "\n",
    "    blog_post_elements = dom.select('li.sh_blog_top')\n",
    "\n",
    "    for blog_post_element in blog_post_elements:\n",
    "        title = blog_post_element.select('a.sh_blog_title')[0].attrs.get('title')\n",
    "        blog_name = blog_post_element.select('a.txt84')[0].text\n",
    "        url = blog_post_element.select('a.sh_blog_title')[0].attrs.get('href')\n",
    "        print((keyword, title, blog_name, url))\n"
   ]
  },
  {
   "cell_type": "markdown",
   "metadata": {},
   "source": [
    "> 수고하셨습니다. 감사합니다. - 안수찬 올림."
   ]
  },
  {
   "cell_type": "code",
   "execution_count": null,
   "metadata": {
    "collapsed": true
   },
   "outputs": [],
   "source": []
  }
 ],
 "metadata": {
  "anaconda-cloud": {},
  "kernelspec": {
   "display_name": "Python 3",
   "language": "python",
   "name": "python3"
  },
  "language_info": {
   "codemirror_mode": {
    "name": "ipython",
    "version": 3
   },
   "file_extension": ".py",
   "mimetype": "text/x-python",
   "name": "python",
   "nbconvert_exporter": "python",
   "pygments_lexer": "ipython3",
   "version": "3.6.1"
  }
 },
 "nbformat": 4,
 "nbformat_minor": 1
}
