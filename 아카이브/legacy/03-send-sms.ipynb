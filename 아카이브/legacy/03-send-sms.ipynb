{
 "cells": [
  {
   "cell_type": "markdown",
   "metadata": {},
   "source": [
    "# 업무자동화를 위한 파이썬 입문 CAMP #10-03\n",
    "\n",
    "\n",
    "> 주제 : 직방 API를 통해서 매물 등록자 휴대폰번호를 파싱한 후에, SMS API를 통해서 광고문자 발송하기"
   ]
  },
  {
   "cell_type": "markdown",
   "metadata": {},
   "source": [
    "## Prerequisite\n",
    "\n",
    "#### Python Packages\n",
    "\n",
    "```\n",
    "$ pip install requests\n",
    "$ pip install beautifulsoup4\n",
    "```"
   ]
  },
  {
   "cell_type": "code",
   "execution_count": 1,
   "metadata": {
    "collapsed": true
   },
   "outputs": [],
   "source": [
    "# 파이썬 기본 라이브러리\n",
    "import json\n",
    "\n",
    "# 외부 라이브러리 ( 별도로 설치가 필요합니다. )\n",
    "import requests\n",
    "from bs4 import BeautifulSoup"
   ]
  },
  {
   "cell_type": "code",
   "execution_count": 2,
   "metadata": {
    "collapsed": true
   },
   "outputs": [],
   "source": [
    "response = requests.get(\"https://api.zigbang.com/v1/items?detail=true&item_ids=200001&item_ids=200003&item_ids=200004\")"
   ]
  },
  {
   "cell_type": "code",
   "execution_count": 3,
   "metadata": {
    "collapsed": true
   },
   "outputs": [],
   "source": [
    "# response.text 의 경우에는 직방API 의 결과로 json text가 리턴되기 때문에,\n",
    "# python에서 사용할 수 있는 dict type 으로 변경해야 한다.\n",
    "\n",
    "result = json.loads(response.text)"
   ]
  },
  {
   "cell_type": "code",
   "execution_count": 4,
   "metadata": {
    "collapsed": false
   },
   "outputs": [
    {
     "data": {
      "text/plain": [
       "['010-4533-3253', '010-2910-4300', '010-4705-6713']"
      ]
     },
     "execution_count": 4,
     "metadata": {},
     "output_type": "execute_result"
    }
   ],
   "source": [
    "phonenumber_list = []\n",
    "\n",
    "for item in result.get('items'):\n",
    "    phonenumber = item.get('item').get('original_user_phone')\n",
    "    phonenumber_list.append(phonenumber)\n",
    "    \n",
    "phonenumber_list"
   ]
  },
  {
   "cell_type": "code",
   "execution_count": 5,
   "metadata": {
    "collapsed": true
   },
   "outputs": [],
   "source": [
    "# 실제로 저 사람들 번호로 보내면 안되므로,\n",
    "# 실습에서는 본인 휴대폰 번호, 혹은 제 연락처를 사용하시면 됩니다.\n",
    "\n",
    "phonenumber_list = [\n",
    "    '010-2220-5736',  # 안수찬 개인용\n",
    "    '010-4057-5736',  # 안수찬 업무용\n",
    "]"
   ]
  },
  {
   "cell_type": "code",
   "execution_count": 6,
   "metadata": {
    "collapsed": true
   },
   "outputs": [],
   "source": [
    "def register_sender_phonenumber(phonenumber, comment):\n",
    "    # 발신번호 사전 등록 API\n",
    "\n",
    "    base_url = \"http://api.openapi.io/ppurio/1/sendnumber/save/dobestan\"\n",
    "\n",
    "    headers = {\n",
    "        'x-waple-authorization': 'MTkyMC0xNDEzODU0NTAwMzU3LTllM2VkOTM3LTYwMTEtNGU2Zi1iZWQ5LTM3NjAxMTNlNmYyMg==',\n",
    "    }\n",
    "\n",
    "    payload = {\n",
    "        'sendnumber': phonenumber.replace('-', ''),\n",
    "        'comment': comment,\n",
    "    }\n",
    "\n",
    "    response = requests.post(\n",
    "        base_url,\n",
    "        data=payload,\n",
    "        headers=headers,\n",
    "    )\n",
    "    \n",
    "    return response"
   ]
  },
  {
   "cell_type": "code",
   "execution_count": 7,
   "metadata": {
    "collapsed": false
   },
   "outputs": [
    {
     "data": {
      "text/plain": [
       "<Response [200]>"
      ]
     },
     "execution_count": 7,
     "metadata": {},
     "output_type": "execute_result"
    }
   ],
   "source": [
    "# 본인 ( 혹은 제 연락처로 ) 발신번호 사전등록을 합니다. ( 2015. 10. 16. 발신번호사전등록제 시행 )\n",
    "\n",
    "send_phonenumber = '01022205736'\n",
    "register_sender_phonenumber(send_phonenumber, \"안수찬\")"
   ]
  },
  {
   "cell_type": "code",
   "execution_count": 8,
   "metadata": {
    "collapsed": true
   },
   "outputs": [],
   "source": [
    "def send_sms(send_phone, dest_phone, content, subject=None):\n",
    "    \"\"\"\n",
    "    (주)케이티하이텔 에서 서비스하는 API STORE 에서 제공하는\n",
    "    대용량 SMS 서비스를 이용하고 있습니다.\n",
    "    관련 문서는 아래의 링크에서 찾아보실 수 있습니다 :\n",
    "    - http://www.apistore.co.kr/api/apiProviderGuide.do?service_seq=151\n",
    "    - http://www.apistore.co.kr/file/docDownloadSeq.do?doc_seq=124&service_seq=151\n",
    "    \"\"\"\n",
    "\n",
    "    base_url = \"http://api.openapi.io/ppurio/1/message/sms/dobestan\"\n",
    "\n",
    "    headers = {\n",
    "        'x-waple-authorization': 'MTkyMC0xNDEzODU0NTAwMzU3LTllM2VkOTM3LTYwMTEtNGU2Zi1iZWQ5LTM3NjAxMTNlNmYyMg==',\n",
    "    }\n",
    "\n",
    "    payload = {\n",
    "        'send_phone': send_phone,  # 단, 발신번호 사전 등록제 시행에 따라 사전 등록된 휴대폰 번호로만 발송하실 수 있습니다.\n",
    "        'dest_phone': dest_phone,\n",
    "        'msg_body': content,\n",
    "        'subject': subject,\n",
    "    }\n",
    "\n",
    "    response = requests.post(\n",
    "        base_url,\n",
    "        data=payload,\n",
    "        headers=headers,\n",
    "    )\n",
    "    \n",
    "    return response"
   ]
  },
  {
   "cell_type": "code",
   "execution_count": 9,
   "metadata": {
    "collapsed": false
   },
   "outputs": [
    {
     "name": "stdout",
     "output_type": "stream",
     "text": [
      "b'{\"result_code\":\"200\",\"cmid\":\"201602031149135788500\"}'\n",
      "b'{\"result_code\":\"200\",\"cmid\":\"201602031149136748940\"}'\n"
     ]
    }
   ],
   "source": [
    "for phonenumber in phonenumber_list:\n",
    "    response = send_sms(\n",
    "        send_phone=send_phonenumber,\n",
    "        dest_phone=phonenumber,\n",
    "        content='(광고)같은 광고. 안녕하세요. 다방입니다. 판매자 등록 수수료 첫달 50% 할인 이벤트 진행중입니다.',\n",
    "    )\n",
    "    print(response.content)"
   ]
  },
  {
   "cell_type": "code",
   "execution_count": null,
   "metadata": {
    "collapsed": true
   },
   "outputs": [],
   "source": []
  }
 ],
 "metadata": {
  "kernelspec": {
   "display_name": "Python 3",
   "language": "python",
   "name": "python3"
  },
  "language_info": {
   "codemirror_mode": {
    "name": "ipython",
    "version": 3
   },
   "file_extension": ".py",
   "mimetype": "text/x-python",
   "name": "python",
   "nbconvert_exporter": "python",
   "pygments_lexer": "ipython3",
   "version": "3.5.1"
  }
 },
 "nbformat": 4,
 "nbformat_minor": 0
}
