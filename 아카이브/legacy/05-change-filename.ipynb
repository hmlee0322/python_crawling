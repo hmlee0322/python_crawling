{
 "cells": [
  {
   "cell_type": "markdown",
   "metadata": {},
   "source": [
    "# 업무자동화를 위한 파이썬 입문 CAMP #12-05\n",
    "\n",
    "\n",
    "> 주제 : mp3 파일에 저장되어 있는 태그를 바탕으로 파일 이름을 일괄적으로 변경하기"
   ]
  },
  {
   "cell_type": "markdown",
   "metadata": {},
   "source": [
    "## Prerequisite\n",
    "\n",
    "#### Python Packages\n",
    "\n",
    "```\n",
    "$ pip install mutagen\n",
    "```"
   ]
  },
  {
   "cell_type": "code",
   "execution_count": null,
   "metadata": {
    "collapsed": false
   },
   "outputs": [],
   "source": [
    "# 이 부분은 제가 강의자료의 실습 데이터를 만들기 위해서 사용한 스크립트입니다.\n",
    "# 수업 시간에는 이 부분에 대해서 다루고 넘어가지는 않습니다.\n",
    "\n",
    "\"\"\"\n",
    "import os\n",
    "import string\n",
    "import shutil\n",
    "import random\n",
    "\n",
    "\n",
    "# 기존에 다운로드한 원본 MP3 파일 목록 가져오기\n",
    "mp3_files = [\n",
    "    filename\n",
    "    for filename \n",
    "    in os.listdir(\"sample_mp3_original\")\n",
    "    if \".mp3\" in filename\n",
    "]\n",
    "\n",
    "\n",
    "# 기존의 sample_mp3 폴더 삭제하기\n",
    "if os.path.exists(\"sample_mp3\"):\n",
    "    shutil.rmtree('sample_mp3')\n",
    "\n",
    "\n",
    "# sample_mp3 라는 새로운 폴더 생성하기\n",
    "os.makedirs(\"sample_mp3\")\n",
    "\n",
    "    \n",
    "# sample_mp3 라는 새로운 폴더에 이상한 이름으로 새로운 mp3 파일들 생성하기\n",
    "for mp3_file in mp3_files:\n",
    "    random_filename = ''.join(random.choice(string.ascii_uppercase + string.digits) for _ in range(8)) + \".mp3\"\n",
    "    shutil.copy2(\n",
    "        \"sample_mp3_original/\" + mp3_file,\n",
    "        \"sample_mp3/\" + random_filename,\n",
    "    )\n",
    "\n",
    "# sample_mp3.zip 으로 압축하기\n",
    "shutil.make_archive(\"sample_mp3\", 'zip', \"sample_mp3\")\n",
    "\n",
    "\n",
    "# sample_mp3 폴더 삭제하기\n",
    "shutil.rmtree(\"sample_mp3\")\n",
    "\"\"\""
   ]
  },
  {
   "cell_type": "code",
   "execution_count": 1,
   "metadata": {
    "collapsed": true
   },
   "outputs": [],
   "source": [
    "import os\n",
    "import shutil\n",
    "\n",
    "# 파이썬에서 mp3와 관련된 모듈은 굉장히 많습니다.\n",
    "# 이러한 경우에는 직접 검색해서 어떤 모듈을 이용해야 가장 생산성 높게 작업할 수 있을지 고민해보아야 합니다.\n",
    "from mutagen.mp3 import MP3"
   ]
  },
  {
   "cell_type": "code",
   "execution_count": 2,
   "metadata": {
    "collapsed": false
   },
   "outputs": [],
   "source": [
    "# \"sample_mp3\" 라는 폴더에다 \"sample_mp3.zip\"의 압축파일을 푼다.\n",
    "\n",
    "shutil.unpack_archive(\"sample_mp3.zip\", \"sample_mp3\", \"zip\")"
   ]
  },
  {
   "cell_type": "code",
   "execution_count": 3,
   "metadata": {
    "collapsed": false
   },
   "outputs": [],
   "source": [
    "# 새로운 mp3 파일들을 저장할 폴더를 생성한다.\n",
    "# 만약에 이미 존재하면, 삭제하고 새롭게 폴더를 생성한다.\n",
    "\n",
    "if os.path.exists(\"sample_mp3_processed\"):\n",
    "    shutil.rmtree('sample_mp3_processed')\n",
    "os.makedirs(\"sample_mp3_processed\")"
   ]
  },
  {
   "cell_type": "code",
   "execution_count": 4,
   "metadata": {
    "collapsed": true
   },
   "outputs": [],
   "source": [
    "# \"sample_mp3\" 라는 폴더 안에 들어있는 각각의 mp3 파일들에 대해서, \n",
    "# 제목, 가수명을 추출한다.\n",
    "\n",
    "for mp3_filename in os.listdir(\"sample_mp3\"):\n",
    "    mp3 = MP3(\"sample_mp3/\" + mp3_filename)\n",
    "    \n",
    "    title = mp3.get(\"TIT2\").text[0]\n",
    "    artist = mp3.get(\"TPE1\").text[0]\n",
    "    \n",
    "    new_filename = \"{artist} - {title}.mp3\".format(\n",
    "        artist=artist,\n",
    "        title=title,\n",
    "    )\n",
    "    \n",
    "    # 이름 바꾸기\n",
    "    shutil.copy2(\n",
    "        \"sample_mp3/\" + mp3_filename,\n",
    "        \"sample_mp3_processed/\" + new_filename, \n",
    "    )"
   ]
  },
  {
   "cell_type": "markdown",
   "metadata": {},
   "source": [
    "## Bonus: manage data with pandas"
   ]
  },
  {
   "cell_type": "code",
   "execution_count": 5,
   "metadata": {
    "collapsed": false
   },
   "outputs": [],
   "source": [
    "%matplotlib inline\n",
    "\n",
    "import pandas as pd\n",
    "import matplotlib.pyplot as plt"
   ]
  },
  {
   "cell_type": "code",
   "execution_count": 6,
   "metadata": {
    "collapsed": true
   },
   "outputs": [],
   "source": [
    "df = pd.DataFrame(columns=[\"filename\", \"title\", \"artist\", \"length\"])"
   ]
  },
  {
   "cell_type": "code",
   "execution_count": 7,
   "metadata": {
    "collapsed": false
   },
   "outputs": [],
   "source": [
    "for mp3_filename in os.listdir(\"sample_mp3_processed\"):\n",
    "    mp3 = MP3(\"sample_mp3_processed/\" + mp3_filename)\n",
    "    \n",
    "    title = mp3.get(\"TIT2\").text[0]\n",
    "    artist = mp3.get(\"TPE1\").text[0]\n",
    "    length = mp3.info.length\n",
    "    \n",
    "    df.loc[len(df)] = [mp3_filename, title, artist, length]"
   ]
  },
  {
   "cell_type": "code",
   "execution_count": 8,
   "metadata": {
    "collapsed": false
   },
   "outputs": [
    {
     "data": {
      "text/html": [
       "<div>\n",
       "<table border=\"1\" class=\"dataframe\">\n",
       "  <thead>\n",
       "    <tr style=\"text-align: right;\">\n",
       "      <th></th>\n",
       "      <th>filename</th>\n",
       "      <th>title</th>\n",
       "      <th>artist</th>\n",
       "      <th>length</th>\n",
       "    </tr>\n",
       "  </thead>\n",
       "  <tbody>\n",
       "    <tr>\n",
       "      <th>0</th>\n",
       "      <td>Drake - Hotline Bling.mp3</td>\n",
       "      <td>Hotline Bling</td>\n",
       "      <td>Drake</td>\n",
       "      <td>267.023958</td>\n",
       "    </tr>\n",
       "    <tr>\n",
       "      <th>1</th>\n",
       "      <td>Fetty Wap - 679 (feat. Remy Boyz).mp3</td>\n",
       "      <td>679 (feat. Remy Boyz)</td>\n",
       "      <td>Fetty Wap</td>\n",
       "      <td>196.693333</td>\n",
       "    </tr>\n",
       "    <tr>\n",
       "      <th>2</th>\n",
       "      <td>Justin Bieber - What Do You Mean.mp3</td>\n",
       "      <td>What Do You Mean</td>\n",
       "      <td>Justin Bieber</td>\n",
       "      <td>210.096979</td>\n",
       "    </tr>\n",
       "    <tr>\n",
       "      <th>3</th>\n",
       "      <td>Major Lazer x DJ Snake ft. Mø - Lean on.mp3</td>\n",
       "      <td>Lean on</td>\n",
       "      <td>Major Lazer x DJ Snake ft. Mø</td>\n",
       "      <td>176.640000</td>\n",
       "    </tr>\n",
       "    <tr>\n",
       "      <th>4</th>\n",
       "      <td>OMI - Cheerleader.mp3</td>\n",
       "      <td>Cheerleader</td>\n",
       "      <td>OMI</td>\n",
       "      <td>181.440000</td>\n",
       "    </tr>\n",
       "    <tr>\n",
       "      <th>5</th>\n",
       "      <td>R. City - Locked Away (feat. Adam Levine).mp3</td>\n",
       "      <td>Locked Away (feat. Adam Levine)</td>\n",
       "      <td>R. City</td>\n",
       "      <td>227.280000</td>\n",
       "    </tr>\n",
       "    <tr>\n",
       "      <th>6</th>\n",
       "      <td>Selena Gomez (feat. A$AP Rocky) - Good For You...</td>\n",
       "      <td>Good For You</td>\n",
       "      <td>Selena Gomez (feat. A$AP Rocky)</td>\n",
       "      <td>220.734688</td>\n",
       "    </tr>\n",
       "    <tr>\n",
       "      <th>7</th>\n",
       "      <td>Silento - Watch Me.mp3</td>\n",
       "      <td>Watch Me</td>\n",
       "      <td>Silento</td>\n",
       "      <td>186.280229</td>\n",
       "    </tr>\n",
       "    <tr>\n",
       "      <th>8</th>\n",
       "      <td>The Weeknd - Can't Feel My Face.mp3</td>\n",
       "      <td>Can't Feel My Face</td>\n",
       "      <td>The Weeknd</td>\n",
       "      <td>215.625771</td>\n",
       "    </tr>\n",
       "    <tr>\n",
       "      <th>9</th>\n",
       "      <td>The Weeknd - The Hills.mp3</td>\n",
       "      <td>The Hills</td>\n",
       "      <td>The Weeknd</td>\n",
       "      <td>242.290521</td>\n",
       "    </tr>\n",
       "  </tbody>\n",
       "</table>\n",
       "</div>"
      ],
      "text/plain": [
       "                                            filename  \\\n",
       "0                          Drake - Hotline Bling.mp3   \n",
       "1              Fetty Wap - 679 (feat. Remy Boyz).mp3   \n",
       "2               Justin Bieber - What Do You Mean.mp3   \n",
       "3        Major Lazer x DJ Snake ft. Mø - Lean on.mp3   \n",
       "4                              OMI - Cheerleader.mp3   \n",
       "5      R. City - Locked Away (feat. Adam Levine).mp3   \n",
       "6  Selena Gomez (feat. A$AP Rocky) - Good For You...   \n",
       "7                             Silento - Watch Me.mp3   \n",
       "8                The Weeknd - Can't Feel My Face.mp3   \n",
       "9                         The Weeknd - The Hills.mp3   \n",
       "\n",
       "                             title                           artist  \\\n",
       "0                    Hotline Bling                            Drake   \n",
       "1            679 (feat. Remy Boyz)                        Fetty Wap   \n",
       "2                 What Do You Mean                    Justin Bieber   \n",
       "3                          Lean on    Major Lazer x DJ Snake ft. Mø   \n",
       "4                      Cheerleader                              OMI   \n",
       "5  Locked Away (feat. Adam Levine)                          R. City   \n",
       "6                     Good For You  Selena Gomez (feat. A$AP Rocky)   \n",
       "7                         Watch Me                          Silento   \n",
       "8               Can't Feel My Face                       The Weeknd   \n",
       "9                        The Hills                       The Weeknd   \n",
       "\n",
       "       length  \n",
       "0  267.023958  \n",
       "1  196.693333  \n",
       "2  210.096979  \n",
       "3  176.640000  \n",
       "4  181.440000  \n",
       "5  227.280000  \n",
       "6  220.734688  \n",
       "7  186.280229  \n",
       "8  215.625771  \n",
       "9  242.290521  "
      ]
     },
     "execution_count": 8,
     "metadata": {},
     "output_type": "execute_result"
    }
   ],
   "source": [
    "df"
   ]
  },
  {
   "cell_type": "code",
   "execution_count": 9,
   "metadata": {
    "collapsed": false
   },
   "outputs": [
    {
     "data": {
      "text/plain": [
       "212.41054791666664"
      ]
     },
     "execution_count": 9,
     "metadata": {},
     "output_type": "execute_result"
    }
   ],
   "source": [
    "# pandas 는 다양한 함수를 지원합니다. - 예, \"length\" column 의 평균 ( 즉, 평균 음원 길이 )를 구하고 싶다면,\n",
    "# mean() 이라는 함수를 사용해주시면 됩니다.\n",
    "\n",
    "df.length.mean()"
   ]
  },
  {
   "cell_type": "code",
   "execution_count": 10,
   "metadata": {
    "collapsed": false
   },
   "outputs": [
    {
     "data": {
      "text/plain": [
       "<matplotlib.text.Text at 0x110bead30>"
      ]
     },
     "execution_count": 10,
     "metadata": {},
     "output_type": "execute_result"
    },
    {
     "data": {
      "image/png": "[encoded data removed]",
      "text/plain": [
       "<matplotlib.figure.Figure at 0x110b26a20>"
      ]
     },
     "metadata": {},
     "output_type": "display_data"
    }
   ],
   "source": [
    "# Visualization / 시각화\n",
    "# Reference: http://pandas.pydata.org/pandas-docs/stable/visualization.html \n",
    "\n",
    "plt.figure()\n",
    "df.length.plot(\n",
    "    kind=\"hist\",\n",
    ").set_title(\"Length Histogram\")"
   ]
  },
  {
   "cell_type": "code",
   "execution_count": null,
   "metadata": {
    "collapsed": true
   },
   "outputs": [],
   "source": [
    "# 결과를 엑셀 파일로 저장\n",
    "\n",
    "df.to_excel(\"music.xlsx\", index=False)"
   ]
  }
 ],
 "metadata": {
  "kernelspec": {
   "display_name": "Python 3",
   "language": "python",
   "name": "python3"
  },
  "language_info": {
   "codemirror_mode": {
    "name": "ipython",
    "version": 3
   },
   "file_extension": ".py",
   "mimetype": "text/x-python",
   "name": "python",
   "nbconvert_exporter": "python",
   "pygments_lexer": "ipython3",
   "version": "3.5.1"
  }
 },
 "nbformat": 4,
 "nbformat_minor": 0
}
