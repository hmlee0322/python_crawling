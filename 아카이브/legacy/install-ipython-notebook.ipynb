{
 "cells": [
  {
   "cell_type": "markdown",
   "metadata": {},
   "source": [
    "# Install IPython Notebook ( aka \"Jupyter Notebook \")\n",
    "\n",
    "- Reference: http://jupyter.org/\n",
    "- Install Documentation: http://jupyter.readthedocs.org/en/latest/install.html"
   ]
  },
  {
   "cell_type": "markdown",
   "metadata": {},
   "source": [
    "## 1. Install IPython Notebook\n",
    "\n",
    "```\n",
    "$ pip install ipython[all]\n",
    "```\n",
    "\n",
    "or \n",
    "\n",
    "```\n",
    "$ pip install jupyter\n",
    "```"
   ]
  },
  {
   "cell_type": "markdown",
   "metadata": {},
   "source": [
    "## 2. Run IPython Notebook\n",
    "\n",
    "```\n",
    "$ ipython notebook\n",
    "```\n",
    "\n",
    "or \n",
    "\n",
    "```\n",
    "$ jupyter notebook\n",
    "```"
   ]
  },
  {
   "cell_type": "markdown",
   "metadata": {},
   "source": [
    "## 3. Open Browser\n",
    "\n",
    "사용하고 계신 웹 브라우져 ( ex, `Google Chrome` ) 을 이용해서 다음의 사이트로 접속:\n",
    "\n",
    "```\n",
    "http://localhost:8888/\n",
    "```"
   ]
  }
 ],
 "metadata": {
  "kernelspec": {
   "display_name": "Python 3",
   "language": "python",
   "name": "python3"
  },
  "language_info": {
   "codemirror_mode": {
    "name": "ipython",
    "version": 3
   },
   "file_extension": ".py",
   "mimetype": "text/x-python",
   "name": "python",
   "nbconvert_exporter": "python",
   "pygments_lexer": "ipython3",
   "version": "3.6.1"
  }
 },
 "nbformat": 4,
 "nbformat_minor": 1
}
