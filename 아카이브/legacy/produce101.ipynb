{
 "cells": [
  {
   "cell_type": "code",
   "execution_count": 1,
   "metadata": {
    "collapsed": true
   },
   "outputs": [],
   "source": [
    "import os\n",
    "\n",
    "from selenium import webdriver"
   ]
  },
  {
   "cell_type": "code",
   "execution_count": 2,
   "metadata": {
    "collapsed": true
   },
   "outputs": [],
   "source": [
    "driver = webdriver.Firefox()"
   ]
  },
  {
   "cell_type": "code",
   "execution_count": 3,
   "metadata": {
    "collapsed": false
   },
   "outputs": [],
   "source": [
    "driver.get(\"https://facebook.com\")"
   ]
  },
  {
   "cell_type": "code",
   "execution_count": 4,
   "metadata": {
    "collapsed": true
   },
   "outputs": [],
   "source": [
    "FACEBOOK_USERNAME = os.environ.get(\"FACEBOOK_USERNAME\", \"YOUR_FACEBOOK_USERNAME\")\n",
    "FACEBOOK_PASSWORD = os.environ.get(\"FACEBOOK_PASSWORD\", \"YOUR_FACEBOOK_PASSWORD\")\n",
    "\n",
    "driver.find_element_by_css_selector(\"#email\").send_keys(FACEBOOK_USERNAME)\n",
    "driver.find_element_by_css_selector(\"#pass\").send_keys(FACEBOOK_PASSWORD)\n",
    "\n",
    "driver.find_element_by_css_selector(\"#u_0_10\").click()"
   ]
  },
  {
   "cell_type": "code",
   "execution_count": 5,
   "metadata": {
    "collapsed": true
   },
   "outputs": [],
   "source": [
    "driver.get(\"http://mnettv.interest.me/produce101/main.dbp#\")\n",
    "driver.implicitly_wait(10)"
   ]
  },
  {
   "cell_type": "code",
   "execution_count": 6,
   "metadata": {
    "collapsed": false
   },
   "outputs": [],
   "source": [
    "driver.find_element_by_css_selector(\"button.login\").click()"
   ]
  },
  {
   "cell_type": "code",
   "execution_count": 7,
   "metadata": {
    "collapsed": true
   },
   "outputs": [],
   "source": [
    "driver.find_element_by_css_selector(\"a.btn_facebook\").click()\n",
    "driver.implicitly_wait(10)\n",
    "\n",
    "driver.get(\"http://mnettv.interest.me/produce101/main.dbp#\")"
   ]
  },
  {
   "cell_type": "code",
   "execution_count": 8,
   "metadata": {
    "collapsed": false
   },
   "outputs": [],
   "source": [
    "girl_list = [\n",
    "    # 젤리피쉬 연습생\n",
    "    \"강미나\",\n",
    "    \"김세정\",\n",
    "    \n",
    "    # 판타지오 연습생\n",
    "    \"김도연\",\n",
    "    \n",
    "    # 플레디스 연습생\n",
    "    \"정은우\",\n",
    "    \"박시연\",\n",
    "    \"김민경\",\n",
    "    \n",
    "    # 큐브 연습생\n",
    "    \"권은빈\",\n",
    "    \n",
    "    # MBK 연습생\n",
    "    \"정채연\",\n",
    "    \"기희현\",\n",
    "    \n",
    "    # 스타쉽 연습생\n",
    "    \"유연정\",\n",
    "    \n",
    "    # 레드라인 연습생\n",
    "    \"김소혜\",\n",
    "]\n",
    "\n",
    "# 11명 의무투표\n",
    "assert len(girl_list) is 11"
   ]
  },
  {
   "cell_type": "code",
   "execution_count": 9,
   "metadata": {
    "collapsed": false
   },
   "outputs": [],
   "source": [
    "girl_elements = driver.find_elements_by_css_selector(\"div.thumb\")"
   ]
  },
  {
   "cell_type": "code",
   "execution_count": 10,
   "metadata": {
    "collapsed": false
   },
   "outputs": [],
   "source": [
    "# 전체 연습생 수와 맞는지 체크\n",
    "assert len(girl_elements) is 101"
   ]
  },
  {
   "cell_type": "code",
   "execution_count": 11,
   "metadata": {
    "collapsed": false
   },
   "outputs": [
    {
     "name": "stdout",
     "output_type": "stream",
     "text": [
      "강미나 => 클릭됨\n",
      "권은빈 => 클릭됨\n",
      "기희현 => 클릭됨\n",
      "김도연 => 클릭됨\n",
      "김민경 => 클릭됨\n",
      "김세정 => 클릭됨\n",
      "김소혜 => 클릭됨\n",
      "박시연 => 클릭됨\n",
      "유연정 => 클릭됨\n",
      "정은우 => 클릭됨\n",
      "정채연 => 클릭됨\n"
     ]
    }
   ],
   "source": [
    "for girl_element in girl_elements:\n",
    "    name = girl_element.find_element_by_css_selector(\"span.mask_vote\").get_attribute(\"data-name\")\n",
    "    if name in girl_list:\n",
    "        print(\"{name} => 클릭됨\".format(name=name))\n",
    "        girl_element.click()\n",
    "        driver.implicitly_wait(10)"
   ]
  },
  {
   "cell_type": "code",
   "execution_count": 12,
   "metadata": {
    "collapsed": true
   },
   "outputs": [],
   "source": [
    "driver.implicitly_wait(10)\n",
    "driver.find_element_by_css_selector(\"a.voteBtn\").click()\n",
    "\n",
    "\n",
    "# 선택하신 11명의 연습생에 투표 하시겠습니까?\n",
    "driver.switch_to_alert().accept()"
   ]
  }
 ],
 "metadata": {
  "kernelspec": {
   "display_name": "Python 3",
   "language": "python",
   "name": "python3"
  },
  "language_info": {
   "codemirror_mode": {
    "name": "ipython",
    "version": 3
   },
   "file_extension": ".py",
   "mimetype": "text/x-python",
   "name": "python",
   "nbconvert_exporter": "python",
   "pygments_lexer": "ipython3",
   "version": "3.5.1"
  }
 },
 "nbformat": 4,
 "nbformat_minor": 0
}
