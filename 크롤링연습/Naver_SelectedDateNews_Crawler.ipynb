{
 "cells": [
  {
   "cell_type": "code",
   "execution_count": null,
   "metadata": {
    "collapsed": true
   },
   "outputs": [],
   "source": [
    "import requests\n",
    "from bs4 import BeautifulSoup as bs\n",
    "import pandas\n",
    "from pandas import DataFrame\n",
    "import datetime"
   ]
  },
  {
   "cell_type": "code",
   "execution_count": 3,
   "metadata": {
    "collapsed": true
   },
   "outputs": [],
   "source": [
    "def news_crawler(url):\n",
    "    \n",
    "    res = requests.get(url)\n",
    "    \n",
    "    if res.status_code == 200:\n",
    "        \n",
    "        soup = bs(res.text, 'html.parser')\n",
    "        \n",
    "        news = soup.select('#main_pack > div > ul > li')\n",
    "\n",
    "        data = []\n",
    "        for each in news:\n",
    "            row = []\n",
    "\n",
    "            media = each.select('._sp_each_source')\n",
    "\n",
    "            # 각 기사의 a 태그들에서 헤드라인과 주소를 뽑기 위함\n",
    "            a_tag = each.findAll('a',{'class' : '_sp_each_title'})\n",
    "            headline = a_tag[0]['title']\n",
    "            news_url = a_tag[0]['href']\n",
    "            summary = each.select('dd')[1]\n",
    "\n",
    "            row.append(media[0].text.strip() if len(media[0])>0 else \"\")\n",
    "            row.append(headline.strip() if len(headline)>0 else \"\")\n",
    "            row.append(summary.text.strip() if len(summary)>0 else \"\")\n",
    "            row.append(news_url.strip() if len(news_url)>0 else \"\")\n",
    "\n",
    "            data.append(row)\n",
    "    return data"
   ]
  },
  {
   "cell_type": "code",
   "execution_count": 4,
   "metadata": {
    "collapsed": true
   },
   "outputs": [],
   "source": [
    "def loadto_end_pages(url,keyword,start_date,end_date):\n",
    "        \n",
    "    chk = True\n",
    "    count = 0\n",
    "    while chk:\n",
    "        res = requests.get(url.format(keyword,count,start_date,end_date))\n",
    "        if res.status_code == 200:\n",
    "            soup = bs(res.text, 'html.parser')\n",
    "            \n",
    "            #결과값 없는 페이지 찾기\n",
    "            chk_page = soup.select('#notfound')\n",
    "            if len(chk_page) == 0:\n",
    "                count += 1\n",
    "            else:\n",
    "                chk = False\n",
    "                break\n",
    "     \n",
    "    news_total = []    \n",
    "    for i in range(0, count+1):\n",
    "        news_total += news_crawler(url.format(keyword,i,start_date,end_date))\n",
    "    \n",
    "    return news_total\n",
    "        "
   ]
  },
  {
   "cell_type": "code",
   "execution_count": 5,
   "metadata": {
    "collapsed": true
   },
   "outputs": [],
   "source": [
    "def save_to_csv(url):\n",
    "    \n",
    "    Q_keyword = input('검색할 키워드를 입력해주세요.(해당 키워드 관련 당일 뉴스가 없으면 오류가 납니다.): ')\n",
    "    keyword = Q_keyword.replace(\" \",\"+\")\n",
    "    start_date = input('검색을 원하는 시작날짜를 입력해주세요(yyyymmdd)')\n",
    "    end_date = input('검색을 원하는 끝날짜를 입력해주세요(yyyymmdd)')\n",
    "\n",
    "    \n",
    "    today_news = loadto_end_pages(url,keyword,start_date,end_date)\n",
    "    \n",
    "    df_news_total = DataFrame(today_news)\n",
    "    df_news_total.columns = ['매체명','헤드라인','내용요약','뉴스url']\n",
    "    df_news_total.to_csv('./'+start_date+'-'+end_date+'_News_'+keyword+'.csv')\n",
    "    \n",
    "    return df_news_total    "
   ]
  },
  {
   "cell_type": "code",
   "execution_count": null,
   "metadata": {},
   "outputs": [
    {
     "name": "stdout",
     "output_type": "stream",
     "text": [
      "검색할 키워드를 입력해주세요.(해당 키워드 관련 당일 뉴스가 없으면 오류가 납니다.): 건강식품\n",
      "검색을 원하는 시작날짜를 입력해주세요(yyyymmdd)20170826\n",
      "검색을 원하는 끝날짜를 입력해주세요(yyyymmdd)20170829\n"
     ]
    }
   ],
   "source": [
    "#검색어, 날짜 설정(하루단위로), page counting 필요\n",
    "# sort=2 : 오래된순, sort=1 : 최신순, sort=0 : 관련도 높은순\n",
    "# 지금은 sort=2 로 고정.\n",
    "\n",
    "news_url_form = \"https://search.naver.com/search.naver?ie=utf8\\\n",
    "&where=news&query={0}&sort=2\\\n",
    "&start={1}1&nso=so:da,p:from{2}to{3},a:all\"\n",
    "\n",
    "save_to_csv(news_url_form)"
   ]
  },
  {
   "cell_type": "code",
   "execution_count": null,
   "metadata": {
    "collapsed": true
   },
   "outputs": [],
   "source": []
  }
 ],
 "metadata": {
  "kernelspec": {
   "display_name": "Python 3",
   "language": "python",
   "name": "python3"
  },
  "language_info": {
   "codemirror_mode": {
    "name": "ipython",
    "version": 3
   },
   "file_extension": ".py",
   "mimetype": "text/x-python",
   "name": "python",
   "nbconvert_exporter": "python",
   "pygments_lexer": "ipython3",
   "version": "3.5.3"
  }
 },
 "nbformat": 4,
 "nbformat_minor": 2
}
