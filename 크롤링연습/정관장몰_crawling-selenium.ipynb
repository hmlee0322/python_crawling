{
 "cells": [
  {
   "cell_type": "code",
   "execution_count": 24,
   "metadata": {
    "collapsed": true
   },
   "outputs": [],
   "source": [
    "from selenium import webdriver\n",
    "from selenium.webdriver.common.by import By\n",
    "from selenium.webdriver.support.ui import WebDriverWait\n",
    "from selenium.webdriver.support import expected_conditions as EC\n",
    "from selenium.webdriver.common.keys import Keys\n",
    "from bs4 import BeautifulSoup as bs\n",
    "\n",
    "import time"
   ]
  },
  {
   "cell_type": "code",
   "execution_count": 62,
   "metadata": {
    "collapsed": true
   },
   "outputs": [],
   "source": [
    "def crawler():\n",
    "    html = driver.page_source\n",
    "\n",
    "    soup = bs(html, 'html.parser')\n",
    "\n",
    "    items = soup.select('#dvBindingArea > li > a')\n",
    "\n",
    "    table = []\n",
    "    for item in items:\n",
    "        row = []\n",
    "\n",
    "        brand = item.select('em.bname')\n",
    "        prod_name = item.select('strong.pname')\n",
    "        custom_price = item.select('span.wrap-price > span.strike')\n",
    "        selling_price = item.select('span.price')\n",
    "\n",
    "        row.append(brand[0].text.strip() if len(brand) > 0 else \"\")\n",
    "        row.append(prod_name[0].text.strip() if len(prod_name)>0 else \"\")\n",
    "        row.append(custom_price[0].text.strip() if len(custom_price)>0 else \"\")\n",
    "        row.append(selling_price[0].text.strip() if len(selling_price)>0 else \"\")\n",
    "        row.append(\"https://www.kgcshop.co.kr\"+item['href'])\n",
    "\n",
    "        table.append(row)\n",
    "\n",
    "    return table"
   ]
  },
  {
   "cell_type": "code",
   "execution_count": 63,
   "metadata": {
    "collapsed": true
   },
   "outputs": [],
   "source": [
    "def click_next():\n",
    "    \n",
    "    driver.execute_script(\"fnPgUtilRead('next')\")\n",
    "    time.sleep(1)\n",
    "    \n",
    "    return html"
   ]
  },
  {
   "cell_type": "code",
   "execution_count": 64,
   "metadata": {},
   "outputs": [],
   "source": [
    "driver = webdriver.Firefox()\n",
    "driver.get(\"https://www.kgcshop.co.kr/shop/goodsList?ctgryId=51#page1\")\n",
    "driver.implicitly_wait(30)\n",
    "\n",
    "num_product = int(driver.find_element_by_css_selector(\"strong.check-total-goods em\").get_attribute(\"innerHTML\"))\n",
    "\n",
    "product_total = []\n",
    "\n",
    "while len(product_total) != num_product: \n",
    "    product_total += crawler()\n",
    "    click_next()\n",
    "    "
   ]
  },
  {
   "cell_type": "code",
   "execution_count": 47,
   "metadata": {
    "collapsed": true
   },
   "outputs": [],
   "source": [
    "import pandas\n",
    "from pandas import DataFrame"
   ]
  },
  {
   "cell_type": "code",
   "execution_count": 66,
   "metadata": {},
   "outputs": [],
   "source": [
    "df_prod_total = DataFrame(product_total)\n",
    "df_prod_total.columns = ['브랜드','제품명', '소비자가', '실판매가', 'url']\n",
    "df_prod_total\n",
    "df_prod_total.to_excel('./kgcshop_product_list.xlsx')"
   ]
  }
 ],
 "metadata": {
  "kernelspec": {
   "display_name": "Python 3",
   "language": "python",
   "name": "python3"
  },
  "language_info": {
   "codemirror_mode": {
    "name": "ipython",
    "version": 3
   },
   "file_extension": ".py",
   "mimetype": "text/x-python",
   "name": "python",
   "nbconvert_exporter": "python",
   "pygments_lexer": "ipython3",
   "version": "3.5.3"
  }
 },
 "nbformat": 4,
 "nbformat_minor": 2
}
