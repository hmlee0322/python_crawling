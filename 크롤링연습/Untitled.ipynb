{
 "cells": [
  {
   "cell_type": "code",
   "execution_count": 75,
   "metadata": {},
   "outputs": [],
   "source": [
    "from selenium import webdriver\n",
    "from selenium.webdriver.support import expected_conditions as EC\n",
    "from selenium.webdriver.support.ui import WebDriverWait\n",
    "from selenium.webdriver.common.by import By\n",
    "import time"
   ]
  },
  {
   "cell_type": "code",
   "execution_count": 60,
   "metadata": {
    "collapsed": true
   },
   "outputs": [],
   "source": [
    "driver = webdriver.Chrome(\"./chromedriver_win32/chromedriver\")\n",
    "\n",
    "driver.get(\"http://ams2.co.kr/keyword\")"
   ]
  },
  {
   "cell_type": "code",
   "execution_count": 81,
   "metadata": {},
   "outputs": [],
   "source": [
    "\n",
    "keywords = ['깔라만시','히비스커스','보이차','블루베리','아로니아','브라질너트',\\\n",
    "            '카카오닙스','노니','맥주효모','사차인치','꽃송이버섯','아보카도오일',\\\n",
    "            '풋사과분말','아사이베리','코코넛오일','블랙베리','모링가','마키베리',\\\n",
    "            '핑거루트','와일드망고','햄프씨드','비타민나무열매가루','비타민나무',\\\n",
    "            '보스웰리아','차가버섯','마카', '구기자','우엉차','아마씨','그라비올라',\\\n",
    "            '흰강낭콩', '블랙커런트', '치아씨드','퀴노아','비폴렌','빌베리','구아바',\\\n",
    "            '라즈베리','크랜베리','바오밥나무','아마란스','링곤베리','바질씨앗',\\\n",
    "            '바질씨드','현미쌀눈','삼부커스','엘더베리','카무카무','테프','밀싹',\\\n",
    "            '그린커피빈','코코넛슈가','천마차','로즈힙','마테','고지베리','마리골드',\\\n",
    "            '비트루트','우슬차','알팔파','골든베리','호로파','보리싹','루쿠마',\\\n",
    "            '무르타베리']\n",
    "\n",
    "kw_input = driver.find_element_by_id('keyword')\n",
    "search_btn = driver.find_element_by_id('btnInquiry')\n",
    "\n",
    "for i in range(0, len(keywords)):\n",
    "    time.sleep(0.1)\n",
    "    kw_input.send_keys(keywords[i])\n",
    "    time.sleep(0.1)\n",
    "    search_btn.click()\n",
    "    time.sleep(0.1)\n",
    "    kw_input.clear()\n",
    "    "
   ]
  }
 ],
 "metadata": {
  "kernelspec": {
   "display_name": "Python 3",
   "language": "python",
   "name": "python3"
  },
  "language_info": {
   "codemirror_mode": {
    "name": "ipython",
    "version": 3
   },
   "file_extension": ".py",
   "mimetype": "text/x-python",
   "name": "python",
   "nbconvert_exporter": "python",
   "pygments_lexer": "ipython3",
   "version": "3.5.3"
  }
 },
 "nbformat": 4,
 "nbformat_minor": 2
}
