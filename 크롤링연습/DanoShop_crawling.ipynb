{
 "cells": [
  {
   "cell_type": "code",
   "execution_count": 1,
   "metadata": {
    "collapsed": true
   },
   "outputs": [],
   "source": [
    "import requests \n",
    "from bs4 import BeautifulSoup as bs"
   ]
  },
  {
   "cell_type": "code",
   "execution_count": 6,
   "metadata": {},
   "outputs": [
    {
     "data": {
      "text/plain": [
       "200"
      ]
     },
     "execution_count": 6,
     "metadata": {},
     "output_type": "execute_result"
    }
   ],
   "source": [
    "# http://www.danoshop.net/product/list.html?cate_no=62  전체보기 url\n",
    "# http://www.danoshop.net/product/list.html?cate_no=62&page=2 페이지2 \n",
    "res = requests.get('http://www.danoshop.net/product/list.html?cate_no=62&page=1')\n",
    "res.status_code"
   ]
  },
  {
   "cell_type": "code",
   "execution_count": 39,
   "metadata": {
    "collapsed": true
   },
   "outputs": [],
   "source": [
    "def url_crawler(url):\n",
    "    res = requests.get(url)\n",
    "    \n",
    "    if res.status_code == 200:\n",
    "        soup = bs(res.text, 'html.parser')\n",
    "        \n",
    "        items = soup.findAll('div', {'class':'desc'})\n",
    "        \n",
    "        table = []\n",
    "        for item in items:\n",
    "            row = []\n",
    "            \n",
    "            prod_name = item.select('a')\n",
    "            custom_price = item.select('.custom')\n",
    "            selling_price = item.select('.price')\n",
    "            \n",
    "            row.append(prod_name[0].text.strip() if len(prod_name)>0 else \"\")\n",
    "            row.append(custom_price[0].text.strip() if len(custom_price)>0 else \"\")\n",
    "            row.append(selling_price[0].text.strip() if len(selling_price)>0 else \"\")\n",
    "            \n",
    "            table.append(row)\n",
    "            \n",
    "    return table"
   ]
  },
  {
   "cell_type": "code",
   "execution_count": 40,
   "metadata": {
    "collapsed": true
   },
   "outputs": [],
   "source": [
    "dano_url = 'http://www.danoshop.net/product/list.html?cate_no=62&page={0}'\n",
    "\n",
    "product_total = []\n",
    "for i in range(1,3):\n",
    "    \n",
    "    product_total += url_crawler(dano_url.format(i))  "
   ]
  },
  {
   "cell_type": "code",
   "execution_count": 13,
   "metadata": {
    "collapsed": true
   },
   "outputs": [],
   "source": [
    "import pandas\n",
    "from pandas import DataFrame"
   ]
  },
  {
   "cell_type": "code",
   "execution_count": 43,
   "metadata": {
    "collapsed": true,
    "scrolled": true
   },
   "outputs": [],
   "source": [
    "df_prod_total = DataFrame(product_total)\n",
    "df_prod_total.columns = ['제품명', '소비자가', '실판매가']\n",
    "\n",
    "df_prod_total.to_csv('./danoshop_product_list.csv')"
   ]
  }
 ],
 "metadata": {
  "kernelspec": {
   "display_name": "Python 3",
   "language": "python",
   "name": "python3"
  },
  "language_info": {
   "codemirror_mode": {
    "name": "ipython",
    "version": 3
   },
   "file_extension": ".py",
   "mimetype": "text/x-python",
   "name": "python",
   "nbconvert_exporter": "python",
   "pygments_lexer": "ipython3",
   "version": "3.5.3"
  }
 },
 "nbformat": 4,
 "nbformat_minor": 2
}
