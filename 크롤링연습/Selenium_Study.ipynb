{
 "cells": [
  {
   "cell_type": "markdown",
   "metadata": {},
   "source": [
    "# 셀레늄 스터디\n",
    "\n",
    "Selenium with python \n",
    "http://selenium-python.readthedocs.io/ - 다양한 내용 수록"
   ]
  },
  {
   "cell_type": "code",
   "execution_count": 14,
   "metadata": {
    "collapsed": true
   },
   "outputs": [],
   "source": [
    "# selenium: 웹 브라우저를 조종을 간편히 해주는 패키지\n",
    "# 웹드라이버: 웹브라우저를 조종하기 위한 프로그램 \n",
    "# 1. 크롬웹드라이버 다운 -> 2. 셀레늄 설치 \n",
    "\n",
    "from selenium import webdriver"
   ]
  },
  {
   "cell_type": "markdown",
   "metadata": {},
   "source": [
    "* driver.get(url) : 브라우저를 해당 url로 이동시킴\n",
    "* driver.current_url : 현재 로드된 페이지 url \n",
    "* driver.close() : 현재 창 닫음 \n",
    "* driver.quit() : 크롬드라이버 실행 후 오픈된 창 다 닫음\n",
    "* driver.implicitly_wait(seconds) : 페이지가 안정적으로 로드되도록 기다릴 시간 설정\n",
    "\n",
    "* driver.find_element_by_css_selector(\"\") : 브라우저 안에서 입력한 css 주소에 해당하는 html 태그를 찾아냄\n"
   ]
  },
  {
   "cell_type": "markdown",
   "metadata": {},
   "source": [
    "-----------------------------------------------------------------------------------\n",
    "\n",
    "* {selected object}.send_keys(\"\") : 선택된 tag에 정보를 입력하여 보냄. input 등의 text입력란에 자주 씀.\n",
    "* {selected object}.clear() : 선택된 tag에 text가 있을 경우 삭제 \n",
    "* {selected object}.click() : 해당 tag를 클릭함. login 버튼 등을 클릭할 때 사용\n",
    "* {selected object}.double_click() : 더블 클릭 "
   ]
  },
  {
   "cell_type": "code",
   "execution_count": null,
   "metadata": {
    "collapsed": true
   },
   "outputs": [],
   "source": [
    "# 크롬 웹드라이버 가져오기: .webdriver.쓰고싶은웹(\"/웹드라이버/주소\") \n",
    "    #- 매번 가져와야되는듯;\n",
    "driver = webdriver.Chrome(\"./chromedriver_win32/chromedriver\")\n",
    "\n",
    "#네이버 불러오기\n",
    "driver.get(\"https://naver.com\")\n",
    "\n",
    "#네이버 검색 - 검색란 CSS selector 받아오기 \n",
    "    # id면 ('# \")\n",
    "    # class면 ('. ') \n",
    "search = driver.find_element_by_css_selector(\"#query\")\n",
    "search.send_keys(\"건강식품\")\n",
    "\n",
    "driver.find_element_by_css_selector('#search_btn > span.ico_search_submit').click()"
   ]
  },
  {
   "cell_type": "markdown",
   "metadata": {},
   "source": [
    "# 해보기 - 직방"
   ]
  },
  {
   "cell_type": "code",
   "execution_count": 29,
   "metadata": {},
   "outputs": [],
   "source": [
    "# 크롬 웹드라이버 가져오기: .webdriver.쓰고싶은웹(\"/웹드라이버/주소\")\n",
    "driver = webdriver.Chrome(\"./chromedriver_win32/chromedriver\")\n",
    "\n",
    "driver.get(\"https://www.zigbang.com/search/map?lat=37.54906&amp;\\\n",
    "lng=126.9705&amp;zoom=8&amp;GGKW=google\")\n",
    "\n",
    "driver.implicitly_wait(30)"
   ]
  },
  {
   "cell_type": "code",
   "execution_count": 31,
   "metadata": {
    "collapsed": true
   },
   "outputs": [
    {
     "name": "stdout",
     "output_type": "stream",
     "text": [
      "60\n",
      "[['6,000/0', '2층', '서울시 금천구 독산동 <em>원룸(오픈형)</em>', '☺신축☺전세자금대출가능☺지금오셔야지가능'], ['6,000/0', '4층', '서울시 동대문구 회기동 <em>원룸(오픈형)</em>', '♥실속파 전세♥회기역♥'], ['1<span>억</span>/0', '1층', '서울시 강남구 역삼동 <em>원룸(분리형)</em>', '★역삼동 분리형 원룸/ A급 원룸 전세/ 강력추천★'], ['500/45', '3층', '서울시 강북구 수유동 <em>원룸(오픈형)</em>', '❤수유역5분✔신축첫입주✔느낌좋은✔깔끔한곳이예요~❤'], ['500/33', '반지하', '서울시 은평구 대조동 <em>원룸(오픈형)</em>', '♥ 신실장 ♥                                  ♥미친가격♥실6평대♥'], ['2,000/20', '3층', '서울시 관악구 신림동 <em>원룸(오픈형)</em>', '⭐⭐⭐⭐⭐역세권 대박가격 이런 방 또 없습니다⭐⭐⭐⭐⭐'], ['6,500/0', '3층', '서울시 영등포구 당산동6가 <em>원룸(분리형)</em>', '당산역에 요런전세방이!!^^☆★☆'], ['1,000/40', '1층', '서울시 금천구 가산동 <em>원룸(복층형)</em>', '✔정가격✔⤴️따끈따끈복층나왔어요⚀곧 이사철인데 고민✔걱정✔많으시죠ㅠ안심중개보장✌'], ['1,000/50', '8층', '서울시 성동구 도선동 <em>원룸(오픈형)</em>', '왕십리역5분 최상급 풀옵션 원룸!'], ['2<span>억</span>7,500/0', '2층', '서울시 강남구 역삼동 <em>투룸</em>', '☆☆☆선릉역 신축 첫입주 전세 신혼부부 강추 ☆☆☆'], ['2,000/60', '4층', '서울시 강남구 논현동 <em>원룸(분리형)</em>', '테라스 있고 채광 좋습니다. 사이즈 큰 분리형 리모델링(도배 장판 등등)'], ['95/95', '고층/18층', '서울시 강남구 청담동 <em>원룸(오픈형)</em>', '✡실가격100%✡  청담동 대로변! 올리모델링 깔끔한 단기복층원룸!'], ['7,000/20', '3층', '서울시 강남구 대치동 <em>원룸(분리형)</em>', '✔ 저련함 분리형 원룸 ✔ 옵션 추가 가능 ✔ 조용한 주거 환경'], ['1,000/50', '3층', '서울시 영등포구 영등포동6가 <em>원룸(분리형)</em>', '▣[분리형]완벽한 풀옵션 / 좋은위치 ▣'], ['58/58', '2층', '서울시 서초구 반포동 <em>원룸(분리형)</em>', '■초저가 지상층 분리형 풀옵션■ 나오면 계약되는 ACE의 귀환!! 지금보시죠!'], ['1<span>억</span>9,500/0', '2층', '서울시 용산구 용문동 <em>투룸</em>', '신혼 추천! 전세자금대출가능 투룸전세 ~'], ['100/27', '3층', '서울시 관악구 신림동 <em>원룸(분리형)</em>', '★레알마드리드 예쁨이 묻었다★'], ['1<span>억</span>7,500/0', '3층', '서울시 관악구 남현동 <em>원룸(분리형)</em>', '★★(신축1.5룸)공기좋고 조용하고 안전한 주택가에 전망도 굿~~^^ ★★'], ['500/43', '1층', '서울시 마포구 대흥동 <em>원룸(오픈형)</em>', '◈◈◈  대로변인접. 혼자 살기 넓은 방  ◈◈◈'], ['500/40', '2층', '서울시 마포구 창전동 <em>원룸(오픈형)</em>', '**홍대 미술학원길 인근의 위치 좋으며 안전한 공간의 원룸입니다~모든 공과금이 포함되어 경제적인방이에요~'], ['1,000/40', '3층', '서울시 동대문구 답십리1동 <em>원룸(오픈형)</em>', '청량리역 5분 풀옵션 ~ 넓은 오피스텔'], ['125/125', '2층', '서울시 강남구 역삼동 <em>원룸(분리형)</em>', '■실매물■ 빛 잘 드는 ACE급 매물'], ['1<span>억</span>9,000/0', '1층', '서울시 강북구 미아동 <em>쓰리룸+</em>', '★마당사용 가능하고 교통편리하며 올리모델링한  단독주택2층중 1층 방3 전용20평 / 즉시입주'], ['200/200', '4층', '서울시 강남구 논현2동 <em>투룸</em>', '♦️학동역 언주역 역세권 신축첫입주 넓은 테라스 컨디션 좋은 투룸♦️'], ['3,000/65', '1층', '서울시 강남구 논현동 <em>원룸(오픈형)</em>', '●●논현역세권/ 깔끔한 신축급 풀옵션 원룸 ●●'], ['500/40', '2층', '서울시 관악구 신림동 <em>원룸(오픈형)</em>', '☏✔느낌있게살자✔모던한원룸✔바로이방!☎'], ['2,000/32', '4층', '서울시 강북구 미아동 <em>원룸(오픈형)</em>', '월세저렴★신축원룸★'], ['2<span>억</span>9,500/0', '3층', '서울시 강남구 논현동 <em>투룸</em>', '♦【BRAVO】♦ 신축 첫입주의 기쁨을 2배로 누릴수 있는 귀한 전세~~ 100%허위매물 보상제도해드립니다.'], ['300/38', '2층', '서울시 동대문구 이문동 <em>원룸(오픈형)</em>', '💕💕  💕 최고급 퀄리티를 자랑!! 💕💕 권리관계 안전!!  💕💕아늑한 풀옵션 원룸2층!! 💕💕외대 외대역 3분!! 💕💕가격대비 최상!! 💕  💕💕'], ['1,000/35', '1층', '서울시 관악구 봉천동 <em>투룸</em>', '✔✔200%실매물 (반려동물환영)미친 조건의 투룸등장'], ['3,000/230', '고층/22층', '서울시 강남구 삼성동 <em>투룸</em>', '♥투룸.실19평♥선정릉뷰♥내외관최상♥고급오피스텔♥채널리저브'], ['500/38', '2층', '서울시 금천구 가산동 <em>원룸(분리형)</em>', '❤가산디지털단지역 인근 직장인들 도보 5분거리에요~️❤'], ['200/38', '2층', '서울시 강북구 번동 <em>원룸(오픈형)</em>', '✡✔수유역 ✔3분거리 ✔저렴하고 ✔관리 잘되는 ✔원룸~!✔✡'], ['50/27', '2층', '서울시 관악구 신림동 <em>원룸(분리형)</em>', '★베리타스인근★대로변★교통최고!!'], ['500/42', '반지하', '서울시 마포구 동교동 <em>원룸(분리형)</em>', '✪1000/40/6❤분리형✪초저렴❤신촌역8분✪'], ['500/50', '저층/8층', '서울시 강서구 염창동 <em>원룸(오픈형)</em>', '염창역3분*깔끔한원룸*풀옵션*관리잘되는 오피스텔!'], ['2<span>억</span>/0', '8층', '서울시 은평구 대조동 <em>투룸</em>', '연신내역4번출구 1분 투룸 전세'], ['60/60', '3층', '서울시 강남구 역삼동 <em>원룸(오픈형)</em>', '리모델링/대로변 건물/엘리베이터'], ['1,000/75', '1층', '서울시 강남구 역삼동 <em>원룸(오픈형)</em>', '☆★강남역과 신논현역 사이에 위치한 풀옵션 10평!!☆★'], ['1<span>억</span>6,400/0', '3층', '서울시 금천구 독산동 <em>투룸</em>', '▶독산동 초저가 인기2룸◀[전세자금대출][넓은주차장][신혼집추천]'], ['1<span>억</span>3,000/0', '2층', '서울시 관악구 신림동 <em>투룸</em>', '✔✔【✍허위NO❝정말 착한 전세금의 역세권 투룸!❞】 전세대출가!! 금방 나가요~~!! ❮100% 실방!❯'], ['80/80', '2층', '서울시 강남구 논현동 <em>원룸(오픈형)</em>', '✔ SS급, 최신트렌드, 보안굿 ✔'], ['200/40', '반지하', '서울시 관악구 신림동 <em>원룸(오픈형)</em>', '★넘예쁜풀옵션★이런방또없습니다.'], ['500/40', '3층', '서울시 관악구 봉천동 <em>원룸(오픈형)</em>', '❤️저렴한가격!♠️엘레베이터있는 완벽한 가성비 갑!!원룸!'], ['1,000/55', '3층', '서울시 영등포구 신길동 <em>원룸(분리형)</em>', '★투룸인가?!! 방하나 거실하나 너무 저렴하다~~★'], ['1<span>억</span>4,000/0', '2층', '서울시 강북구 수유동 <em>쓰리룸+</em>', '수유역도보2분'], ['500/58', '5층', '서울시 중구 장충동2가 <em>원룸(오픈형)</em>', '동대입구 5분거리 넓고 쾌적하고 환기잘되는 원룸'], ['3,000/120', '2층', '서울시 강남구 신사동 <em>쓰리룸+</em>', '❎❎ 신사동 깔끔한 화이트톤 쓰리룸# 굿굿~ ❎❎'], ['300/47', '2층', '서울시 구로구 구로동 <em>원룸(오픈형)</em>', '💟❤💟 깔끔한 풀옵션 보증금 3천까지!!'], ['5<span>억</span>/0', '3층', '서울시 서초구 방배동 <em>쓰리룸+</em>', '★32평 아파트구조 고급빌라 전세★'], ['1,000/45', '고층/20층', '서울시 구로구 구로동 <em>원룸(오픈형)</em>', '▶ 깨끗하고 예쁜 신세계로제리움 2차'], ['1,000/55', '고층/15층', '서울시 성동구 하왕십리동 <em>원룸(오픈형)</em>', '상왕십리역 도보 2분거리'], ['1<span>억</span>2,000/0', '5층', '서울시 관악구 봉천동 <em>원룸(분리형)</em>', '★ 급! 신축급 전세대출 가능한 매물 ★'], ['3<span>억</span>/0', '3층', '서울시 마포구 연남동 <em>쓰리룸+</em>', '▶방3화2넓은쓰리룸 ◀▶베란다+주차장◀ 요새 너무나도 핫한 연남동에 쓰리룸 전세 나왔습니다~!'], ['50/25', '3층', '서울시 관악구 신림동 <em>원룸(분리형)</em>', '★풀옵션★리모델링 장판까지 화이트톤!! 몸만오세요!'], ['1,000/42', '1층', '서울시 서대문구 남가좌동 <em>원룸(오픈형)</em>', '♨♨&lt;명지대&gt;정문인근 전용넓은 원룸'], ['4,500/0', '1층', '서울시 영등포구 대림동 <em>원룸(오픈형)</em>', '❤✡귀한전세❤즉시입주가능❤역도보5분 몸만오세용✡❤'], ['200/50', '고층/17층', '서울시 은평구 대조동 <em>원룸(오픈형)</em>', '♥ 신실장 ♥                                  ♥단기가능♥오피스텔♥'], ['1,000/55', '고층/8층', '서울시 종로구 숭인동 <em>원룸(오픈형)</em>', '깔끔한 오피스텔로 바로 입주 가능함'], ['1,000/40', '3층', '서울시 노원구 월계1동 <em>원룸(오픈형)</em>', '광운대정문1분거리, 귀한전세,아주 깨끗하고 교통편리']]\n"
     ]
    }
   ],
   "source": [
    "# find_elements_by_css_selector <-- 여러 값 가져올 때!! \n",
    "room_elements = driver.find_elements_by_css_selector(\"div#premium-special-map-list div.list-item\")\n",
    "\n",
    "table = []\n",
    "for room_element in room_elements:\n",
    "    row = []\n",
    "    \n",
    "    #get_attribute(name) : 해당 tag에서 주어진 attribute나 property 받음\n",
    "        # 'innerHTML' attribute to get source of the content of the element \n",
    "        # 'outerHTML' for source with the current element.\n",
    "    price = room_element.find_element_by_css_selector(\"div.i-tit strong\").get_attribute('innerHTML')\n",
    "    floor = room_element.find_element_by_css_selector(\"div.i-tit b\").get_attribute('innerHTML')\n",
    "    info = room_element.find_element_by_css_selector('p.i-info').get_attribute('innerHTML')\n",
    "    text = room_element.find_element_by_css_selector('p.i-txt').get_attribute('innerHTML')\n",
    "    \n",
    "    row.append(price)\n",
    "    row.append(floor)\n",
    "    row.append(info)\n",
    "    row.append(text)\n",
    "    \n",
    "    table.append(row)\n",
    "    \n",
    "print(len(table))\n",
    "print(table)\n",
    "\n",
    "driver.quit()"
   ]
  },
  {
   "cell_type": "markdown",
   "metadata": {},
   "source": [
    "# 셀레늄과 잘 맞는 파이어폭스"
   ]
  },
  {
   "cell_type": "code",
   "execution_count": 32,
   "metadata": {
    "collapsed": true
   },
   "outputs": [],
   "source": [
    "from selenium.webdriver.common.keys import Keys"
   ]
  },
  {
   "cell_type": "code",
   "execution_count": 35,
   "metadata": {},
   "outputs": [
    {
     "ename": "WebDriverException",
     "evalue": "Message: 'geckodriver' executable needs to be in PATH. \n",
     "output_type": "error",
     "traceback": [
      "\u001b[1;31m---------------------------------------------------------------------------\u001b[0m",
      "\u001b[1;31mFileNotFoundError\u001b[0m                         Traceback (most recent call last)",
      "\u001b[1;32m~\\Anaconda3\\lib\\site-packages\\selenium\\webdriver\\common\\service.py\u001b[0m in \u001b[0;36mstart\u001b[1;34m(self)\u001b[0m\n\u001b[0;32m     73\u001b[0m                                             \u001b[0mclose_fds\u001b[0m\u001b[1;33m=\u001b[0m\u001b[0mplatform\u001b[0m\u001b[1;33m.\u001b[0m\u001b[0msystem\u001b[0m\u001b[1;33m(\u001b[0m\u001b[1;33m)\u001b[0m \u001b[1;33m!=\u001b[0m \u001b[1;34m'Windows'\u001b[0m\u001b[1;33m,\u001b[0m\u001b[1;33m\u001b[0m\u001b[0m\n\u001b[1;32m---> 74\u001b[1;33m                                             stdout=self.log_file, stderr=self.log_file)\n\u001b[0m\u001b[0;32m     75\u001b[0m         \u001b[1;32mexcept\u001b[0m \u001b[0mTypeError\u001b[0m\u001b[1;33m:\u001b[0m\u001b[1;33m\u001b[0m\u001b[0m\n",
      "\u001b[1;32m~\\Anaconda3\\lib\\subprocess.py\u001b[0m in \u001b[0;36m__init__\u001b[1;34m(self, args, bufsize, executable, stdin, stdout, stderr, preexec_fn, close_fds, shell, cwd, env, universal_newlines, startupinfo, creationflags, restore_signals, start_new_session, pass_fds)\u001b[0m\n\u001b[0;32m    675\u001b[0m                                 \u001b[0merrread\u001b[0m\u001b[1;33m,\u001b[0m \u001b[0merrwrite\u001b[0m\u001b[1;33m,\u001b[0m\u001b[1;33m\u001b[0m\u001b[0m\n\u001b[1;32m--> 676\u001b[1;33m                                 restore_signals, start_new_session)\n\u001b[0m\u001b[0;32m    677\u001b[0m         \u001b[1;32mexcept\u001b[0m\u001b[1;33m:\u001b[0m\u001b[1;33m\u001b[0m\u001b[0m\n",
      "\u001b[1;32m~\\Anaconda3\\lib\\subprocess.py\u001b[0m in \u001b[0;36m_execute_child\u001b[1;34m(self, args, executable, preexec_fn, close_fds, pass_fds, cwd, env, startupinfo, creationflags, shell, p2cread, p2cwrite, c2pread, c2pwrite, errread, errwrite, unused_restore_signals, unused_start_new_session)\u001b[0m\n\u001b[0;32m    954\u001b[0m                                          \u001b[0mcwd\u001b[0m\u001b[1;33m,\u001b[0m\u001b[1;33m\u001b[0m\u001b[0m\n\u001b[1;32m--> 955\u001b[1;33m                                          startupinfo)\n\u001b[0m\u001b[0;32m    956\u001b[0m             \u001b[1;32mfinally\u001b[0m\u001b[1;33m:\u001b[0m\u001b[1;33m\u001b[0m\u001b[0m\n",
      "\u001b[1;31mFileNotFoundError\u001b[0m: [WinError 2] 지정된 파일을 찾을 수 없습니다",
      "\nDuring handling of the above exception, another exception occurred:\n",
      "\u001b[1;31mWebDriverException\u001b[0m                        Traceback (most recent call last)",
      "\u001b[1;32m<ipython-input-35-5b5f270d2d21>\u001b[0m in \u001b[0;36m<module>\u001b[1;34m()\u001b[0m\n\u001b[1;32m----> 1\u001b[1;33m \u001b[0mdriver\u001b[0m \u001b[1;33m=\u001b[0m \u001b[0mwebdriver\u001b[0m\u001b[1;33m.\u001b[0m\u001b[0mFirefox\u001b[0m\u001b[1;33m(\u001b[0m\u001b[1;33m)\u001b[0m\u001b[1;33m\u001b[0m\u001b[0m\n\u001b[0m\u001b[0;32m      2\u001b[0m \u001b[0mdriver\u001b[0m \u001b[1;33m=\u001b[0m \u001b[0mget\u001b[0m\u001b[1;33m(\u001b[0m\u001b[1;34m\"https://www.google.com\"\u001b[0m\u001b[1;33m)\u001b[0m\u001b[1;33m\u001b[0m\u001b[0m\n",
      "\u001b[1;32m~\\Anaconda3\\lib\\site-packages\\selenium\\webdriver\\firefox\\webdriver.py\u001b[0m in \u001b[0;36m__init__\u001b[1;34m(self, firefox_profile, firefox_binary, timeout, capabilities, proxy, executable_path, firefox_options, log_path)\u001b[0m\n\u001b[0;32m    142\u001b[0m             \u001b[0mcapabilities\u001b[0m\u001b[1;33m.\u001b[0m\u001b[0mpop\u001b[0m\u001b[1;33m(\u001b[0m\u001b[1;34m\"marionette\"\u001b[0m\u001b[1;33m)\u001b[0m\u001b[1;33m\u001b[0m\u001b[0m\n\u001b[0;32m    143\u001b[0m             \u001b[0mself\u001b[0m\u001b[1;33m.\u001b[0m\u001b[0mservice\u001b[0m \u001b[1;33m=\u001b[0m \u001b[0mService\u001b[0m\u001b[1;33m(\u001b[0m\u001b[0mexecutable_path\u001b[0m\u001b[1;33m,\u001b[0m \u001b[0mlog_path\u001b[0m\u001b[1;33m=\u001b[0m\u001b[0mlog_path\u001b[0m\u001b[1;33m)\u001b[0m\u001b[1;33m\u001b[0m\u001b[0m\n\u001b[1;32m--> 144\u001b[1;33m             \u001b[0mself\u001b[0m\u001b[1;33m.\u001b[0m\u001b[0mservice\u001b[0m\u001b[1;33m.\u001b[0m\u001b[0mstart\u001b[0m\u001b[1;33m(\u001b[0m\u001b[1;33m)\u001b[0m\u001b[1;33m\u001b[0m\u001b[0m\n\u001b[0m\u001b[0;32m    145\u001b[0m \u001b[1;33m\u001b[0m\u001b[0m\n\u001b[0;32m    146\u001b[0m             \u001b[0mcapabilities\u001b[0m\u001b[1;33m.\u001b[0m\u001b[0mupdate\u001b[0m\u001b[1;33m(\u001b[0m\u001b[0mfirefox_options\u001b[0m\u001b[1;33m.\u001b[0m\u001b[0mto_capabilities\u001b[0m\u001b[1;33m(\u001b[0m\u001b[1;33m)\u001b[0m\u001b[1;33m)\u001b[0m\u001b[1;33m\u001b[0m\u001b[0m\n",
      "\u001b[1;32m~\\Anaconda3\\lib\\site-packages\\selenium\\webdriver\\common\\service.py\u001b[0m in \u001b[0;36mstart\u001b[1;34m(self)\u001b[0m\n\u001b[0;32m     79\u001b[0m                 raise WebDriverException(\n\u001b[0;32m     80\u001b[0m                     \"'%s' executable needs to be in PATH. %s\" % (\n\u001b[1;32m---> 81\u001b[1;33m                         os.path.basename(self.path), self.start_error_message)\n\u001b[0m\u001b[0;32m     82\u001b[0m                 )\n\u001b[0;32m     83\u001b[0m             \u001b[1;32melif\u001b[0m \u001b[0merr\u001b[0m\u001b[1;33m.\u001b[0m\u001b[0merrno\u001b[0m \u001b[1;33m==\u001b[0m \u001b[0merrno\u001b[0m\u001b[1;33m.\u001b[0m\u001b[0mEACCES\u001b[0m\u001b[1;33m:\u001b[0m\u001b[1;33m\u001b[0m\u001b[0m\n",
      "\u001b[1;31mWebDriverException\u001b[0m: Message: 'geckodriver' executable needs to be in PATH. \n"
     ]
    }
   ],
   "source": [
    "driver = webdriver.Firefox()\n",
    "driver = get(\"https://www.google.com\")"
   ]
  }
 ],
 "metadata": {
  "kernelspec": {
   "display_name": "Python 3",
   "language": "python",
   "name": "python3"
  },
  "language_info": {
   "codemirror_mode": {
    "name": "ipython",
    "version": 3
   },
   "file_extension": ".py",
   "mimetype": "text/x-python",
   "name": "python",
   "nbconvert_exporter": "python",
   "pygments_lexer": "ipython3",
   "version": "3.5.3"
  }
 },
 "nbformat": 4,
 "nbformat_minor": 2
}
